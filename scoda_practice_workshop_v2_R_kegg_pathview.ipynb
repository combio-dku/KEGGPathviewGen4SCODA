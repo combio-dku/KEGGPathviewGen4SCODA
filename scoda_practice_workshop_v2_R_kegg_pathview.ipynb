{
 "cells": [
  {
   "cell_type": "markdown",
   "id": "8a120c54",
   "metadata": {
    "id": "8a120c54"
   },
   "source": [
    "# R workshop: <font color=blue> Generating KEGG Pathway view </font>\n",
    "\n",
    "#### MLBI@DKU"
   ]
  },
  {
   "cell_type": "markdown",
   "id": "fd1c4555-9961-43ca-8d9d-1346c858ce29",
   "metadata": {
    "id": "fd1c4555-9961-43ca-8d9d-1346c858ce29"
   },
   "source": [
    "### __0. Install required R packages (skip if they are already installed)__"
   ]
  },
  {
   "cell_type": "code",
   "execution_count": null,
   "id": "2b34753b-259f-43b7-a88a-49848f5eb80c",
   "metadata": {
    "colab": {
     "base_uri": "https://localhost:8080/"
    },
    "executionInfo": {
     "elapsed": 8681,
     "status": "ok",
     "timestamp": 1736438060590,
     "user": {
      "displayName": "mlbi MLBI Lab",
      "userId": "07199555727956947340"
     },
     "user_tz": -540
    },
    "id": "2b34753b-259f-43b7-a88a-49848f5eb80c",
    "outputId": "4e7abadc-3d49-44bb-fc6b-8b448c2c0fbd",
    "scrolled": true
   },
   "outputs": [],
   "source": [
    "if (!requireNamespace(\"BiocManager\", quietly = TRUE))\n",
    "  install.packages(\"BiocManager\")\n",
    "BiocManager::install(\"biocLite\")\n",
    "## BiocManager::install()"
   ]
  },
  {
   "cell_type": "code",
   "execution_count": null,
   "id": "26bbf7e6-0f2b-4c6c-b96e-3cabed087730",
   "metadata": {
    "colab": {
     "base_uri": "https://localhost:8080/"
    },
    "executionInfo": {
     "elapsed": 784847,
     "status": "ok",
     "timestamp": 1736438851669,
     "user": {
      "displayName": "mlbi MLBI Lab",
      "userId": "07199555727956947340"
     },
     "user_tz": -540
    },
    "id": "26bbf7e6-0f2b-4c6c-b96e-3cabed087730",
    "outputId": "072ae581-0a21-4197-b8d6-0a3e09213c7c"
   },
   "outputs": [],
   "source": [
    "BiocManager::install(\"org.Mm.eg.db\")\n",
    "BiocManager::install(\"org.Hs.eg.db\")\n",
    "BiocManager::install(\"biomaRt\")\n",
    "BiocManager::install(\"gageData\")\n",
    "BiocManager::install(\"gage\")\n",
    "BiocManager::install(\"pathview\")\n",
    "install.packages(\"filesstrings\")\n",
    "install.packages(\"anndata\")"
   ]
  },
  {
   "cell_type": "code",
   "execution_count": 43,
   "id": "aqNo2kTM29W_",
   "metadata": {
    "executionInfo": {
     "elapsed": 6909,
     "status": "ok",
     "timestamp": 1736440130050,
     "user": {
      "displayName": "mlbi MLBI Lab",
      "userId": "07199555727956947340"
     },
     "user_tz": -540
    },
    "id": "aqNo2kTM29W_"
   },
   "outputs": [],
   "source": [
    "## Install anndata if it was not\n",
    "system('pip install anndata')"
   ]
  },
  {
   "cell_type": "code",
   "execution_count": 5,
   "id": "cuTMrKyJsFPQ",
   "metadata": {
    "id": "cuTMrKyJsFPQ"
   },
   "outputs": [
    {
     "name": "stderr",
     "output_type": "stream",
     "text": [
      "Downloading GitHub repo combio-dku/KEGGPathviewGen4SCODA@HEAD\n",
      "\n"
     ]
    },
    {
     "name": "stdout",
     "output_type": "stream",
     "text": [
      "\n"
     ]
    },
    {
     "name": "stderr",
     "output_type": "stream",
     "text": [
      "Skipping 5 packages not available: org.Mm.eg.db, org.Hs.eg.db, gageData, gage, pathview\n",
      "\n"
     ]
    },
    {
     "name": "stdout",
     "output_type": "stream",
     "text": [
      "\u001b[36m──\u001b[39m \u001b[36mR CMD build\u001b[39m \u001b[36m───────────────────────────────────────────────────────────────────────────────────────────────────────────────\u001b[39m\n",
      "\u001b[32m✔\u001b[39m  \u001b[90mchecking for file ‘/tmp/RtmpgTOdCu/remotes1c5a052d0ad68a/combio-dku-KEGGPathviewGen4SCODA-7a6296e/DESCRIPTION’\u001b[39m\u001b[36m\u001b[39m\n",
      "\u001b[90m─\u001b[39m\u001b[90m  \u001b[39m\u001b[90mpreparing ‘KEGGPathviewGen4SCODA’:\u001b[39m\u001b[36m\u001b[39m\n",
      "\u001b[32m✔\u001b[39m  \u001b[90mchecking DESCRIPTION meta-information\u001b[39m\u001b[36m\u001b[39m\n",
      "\u001b[90m─\u001b[39m\u001b[90m  \u001b[39m\u001b[90mchecking for LF line-endings in source and make files and shell scripts\u001b[39m\u001b[36m\u001b[39m\n",
      "\u001b[90m─\u001b[39m\u001b[90m  \u001b[39m\u001b[90mchecking for empty or unneeded directories\u001b[39m\u001b[36m\u001b[39m\n",
      "   Omitted ‘LazyData’ from DESCRIPTION\n",
      "\u001b[90m─\u001b[39m\u001b[90m  \u001b[39m\u001b[90mbuilding ‘KEGGPathviewGen4SCODA_0.0.2.tar.gz’\u001b[39m\u001b[36m\u001b[39m\n",
      "   \n",
      "\r"
     ]
    }
   ],
   "source": [
    "devtools::install_github(\"combio-dku/KEGGPathviewGen4SCODA\")"
   ]
  },
  {
   "cell_type": "markdown",
   "id": "bf7c06f0-002e-49b6-86da-a30057a8bd3e",
   "metadata": {
    "id": "bf7c06f0-002e-49b6-86da-a30057a8bd3e"
   },
   "source": [
    "### __1. Load libraries and data__"
   ]
  },
  {
   "cell_type": "code",
   "execution_count": 2,
   "id": "2fe136bf-ddd0-4b3f-98d1-d902d60e6f86",
   "metadata": {},
   "outputs": [],
   "source": [
    "suppressPackageStartupMessages(library(stringr))\n",
    "suppressPackageStartupMessages(library(dplyr))\n",
    "suppressPackageStartupMessages(library(filesstrings))\n",
    "suppressPackageStartupMessages(library(pathview))\n",
    "suppressPackageStartupMessages(library(gage))\n",
    "suppressPackageStartupMessages(library(gageData))\n",
    "suppressPackageStartupMessages(library(org.Hs.eg.db))\n",
    "suppressPackageStartupMessages(library(org.Mm.eg.db))\n",
    "suppressPackageStartupMessages(library(reticulate))\n",
    "suppressPackageStartupMessages(library(anndata))\n",
    "suppressPackageStartupMessages(library(KEGGPathviewGen4SCODA))"
   ]
  },
  {
   "cell_type": "markdown",
   "id": "73b84cad",
   "metadata": {
    "id": "73b84cad"
   },
   "source": [
    "### __2. Load SCODA result__"
   ]
  },
  {
   "cell_type": "code",
   "execution_count": 3,
   "id": "68b46c7b-29d3-4726-827b-e6c8cab9f501",
   "metadata": {
    "colab": {
     "base_uri": "https://localhost:8080/",
     "height": 69
    },
    "executionInfo": {
     "elapsed": 274,
     "status": "ok",
     "timestamp": 1736439264157,
     "user": {
      "displayName": "mlbi MLBI Lab",
      "userId": "07199555727956947340"
     },
     "user_tz": -540
    },
    "id": "68b46c7b-29d3-4726-827b-e6c8cab9f501",
    "outputId": "a24a5020-2c9d-499e-a95b-eafe510caafc"
   },
   "outputs": [
    {
     "data": {
      "text/html": [
       "<style>\n",
       ".list-inline {list-style: none; margin:0; padding: 0}\n",
       ".list-inline>li {display: inline-block}\n",
       ".list-inline>li:not(:last-child)::after {content: \"\\00b7\"; padding: 0 .5ex}\n",
       "</style>\n",
       "<ol class=list-inline><li>'Alzheimer\\'s disease_Normal_vs_others.png'</li><li>'KEGG_pathview_Epithelial cell'</li><li>'optional_config_files'</li><li>'scoda_practice_workshop_v2_R_kegg_pathview_code_dev-Copy1.ipynb'</li><li>'scoda_practice_workshop_v2_R_kegg_pathview_code_dev.ipynb'</li><li>'scoda_practice_workshop_v2_R_kegg_pathview.ipynb'</li><li>'scoda_practice_workshop_v2.ipynb'</li><li>'scoda_viz_for_py_user_v2.ipynb'</li><li>'scoda_workshop_example_dataset_GSE161529_33K'</li><li>'scoda_workshop_example_dataset_GSE161529_33K_results.tar.gz'</li><li>'scoda_workshop_example_dataset_GSE161529_33K.h5ad.gz'</li></ol>\n"
      ],
      "text/latex": [
       "\\begin{enumerate*}\n",
       "\\item 'Alzheimer\\textbackslash{}'s disease\\_Normal\\_vs\\_others.png'\n",
       "\\item 'KEGG\\_pathview\\_Epithelial cell'\n",
       "\\item 'optional\\_config\\_files'\n",
       "\\item 'scoda\\_practice\\_workshop\\_v2\\_R\\_kegg\\_pathview\\_code\\_dev-Copy1.ipynb'\n",
       "\\item 'scoda\\_practice\\_workshop\\_v2\\_R\\_kegg\\_pathview\\_code\\_dev.ipynb'\n",
       "\\item 'scoda\\_practice\\_workshop\\_v2\\_R\\_kegg\\_pathview.ipynb'\n",
       "\\item 'scoda\\_practice\\_workshop\\_v2.ipynb'\n",
       "\\item 'scoda\\_viz\\_for\\_py\\_user\\_v2.ipynb'\n",
       "\\item 'scoda\\_workshop\\_example\\_dataset\\_GSE161529\\_33K'\n",
       "\\item 'scoda\\_workshop\\_example\\_dataset\\_GSE161529\\_33K\\_results.tar.gz'\n",
       "\\item 'scoda\\_workshop\\_example\\_dataset\\_GSE161529\\_33K.h5ad.gz'\n",
       "\\end{enumerate*}\n"
      ],
      "text/markdown": [
       "1. 'Alzheimer\\'s disease_Normal_vs_others.png'\n",
       "2. 'KEGG_pathview_Epithelial cell'\n",
       "3. 'optional_config_files'\n",
       "4. 'scoda_practice_workshop_v2_R_kegg_pathview_code_dev-Copy1.ipynb'\n",
       "5. 'scoda_practice_workshop_v2_R_kegg_pathview_code_dev.ipynb'\n",
       "6. 'scoda_practice_workshop_v2_R_kegg_pathview.ipynb'\n",
       "7. 'scoda_practice_workshop_v2.ipynb'\n",
       "8. 'scoda_viz_for_py_user_v2.ipynb'\n",
       "9. 'scoda_workshop_example_dataset_GSE161529_33K'\n",
       "10. 'scoda_workshop_example_dataset_GSE161529_33K_results.tar.gz'\n",
       "11. 'scoda_workshop_example_dataset_GSE161529_33K.h5ad.gz'\n",
       "\n",
       "\n"
      ],
      "text/plain": [
       " [1] \"Alzheimer's disease_Normal_vs_others.png\"                       \n",
       " [2] \"KEGG_pathview_Epithelial cell\"                                  \n",
       " [3] \"optional_config_files\"                                          \n",
       " [4] \"scoda_practice_workshop_v2_R_kegg_pathview_code_dev-Copy1.ipynb\"\n",
       " [5] \"scoda_practice_workshop_v2_R_kegg_pathview_code_dev.ipynb\"      \n",
       " [6] \"scoda_practice_workshop_v2_R_kegg_pathview.ipynb\"               \n",
       " [7] \"scoda_practice_workshop_v2.ipynb\"                               \n",
       " [8] \"scoda_viz_for_py_user_v2.ipynb\"                                 \n",
       " [9] \"scoda_workshop_example_dataset_GSE161529_33K\"                   \n",
       "[10] \"scoda_workshop_example_dataset_GSE161529_33K_results.tar.gz\"    \n",
       "[11] \"scoda_workshop_example_dataset_GSE161529_33K.h5ad.gz\"           "
      ]
     },
     "metadata": {},
     "output_type": "display_data"
    }
   ],
   "source": [
    "data.dir <- \"./\"\n",
    "\n",
    "flst <- list.files(data.dir)\n",
    "flst"
   ]
  },
  {
   "cell_type": "code",
   "execution_count": 4,
   "id": "loyOWElv111g",
   "metadata": {
    "executionInfo": {
     "elapsed": 11546,
     "status": "ok",
     "timestamp": 1736439229692,
     "user": {
      "displayName": "mlbi MLBI Lab",
      "userId": "07199555727956947340"
     },
     "user_tz": -540
    },
    "id": "loyOWElv111g"
   },
   "outputs": [],
   "source": [
    "file <- 'scoda_workshop_example_dataset_GSE161529_33K_results.tar.gz'\n",
    "untar(file)"
   ]
  },
  {
   "cell_type": "code",
   "execution_count": 4,
   "id": "53d71bfb-9ee5-497d-acd9-9c5dc99c85d7",
   "metadata": {
    "colab": {
     "base_uri": "https://localhost:8080/",
     "height": 255
    },
    "executionInfo": {
     "elapsed": 16633,
     "status": "ok",
     "timestamp": 1736440149828,
     "user": {
      "displayName": "mlbi MLBI Lab",
      "userId": "07199555727956947340"
     },
     "user_tz": -540
    },
    "id": "53d71bfb-9ee5-497d-acd9-9c5dc99c85d7",
    "outputId": "6fdad9fc-8d51-4ea9-809f-e1170bbb47b0"
   },
   "outputs": [
    {
     "data": {
      "text/plain": [
       "AnnData object with n_obs × n_vars = 33785 × 22621\n",
       "    obs: 'Patient', 'Description', 'Source', 'Condition', 'Menopause', 'Parity', 'Gender', 'geo_no', 'sid', 'subtype', 'subtype_detail', 'tissue', 'condition', 'sample', 'sample_rev', 'sample_ext', 'celltype_major', 'celltype_minor', 'celltype_subset', 'cnv_ref_ind', 'ploidy_score', 'ploidy_dec', 'condition_for_deg', 'sample_ext_for_deg', 'celltype_for_deg', 'celltype_for_cci', 'tumor_origin_ind'\n",
       "    var: 'variable_genes', 'chr', 'spot_no'\n",
       "    uns: 'CCI', 'CCI_sample', 'Celltype_marker_DB', 'DEG', 'DEG_grouping_vars', 'DEG_stat', 'DEG_vs_ref', 'DEG_vs_ref_stat', 'GSA_down', 'GSA_up', 'GSA_vs_ref_down', 'GSA_vs_ref_up', 'GSEA', 'GSEA_vs_ref', 'Pathways_DB', 'analysis_parameters', 'cnv', 'cnv_neighbors_info', 'inferploidy_summary', 'log', 'lut_sample_to_cond', 'usr_param'\n",
       "    obsm: 'HiCAT_result', 'X_cnv', 'X_cnv_pca', 'X_pca', 'inferploidy_results'\n",
       "    obsp: 'cnv_neighbor_graph_connectivity', 'cnv_neighbor_graph_distance'"
      ]
     },
     "metadata": {},
     "output_type": "display_data"
    }
   ],
   "source": [
    "### Load data & extract cell-gene matrix as a data.frame (rownames: cell barcode, colnames: gene symbol)\n",
    "dir <- 'scoda_workshop_example_dataset_GSE161529_33K/'\n",
    "file_h5ad <- paste0( dir, 'scoda_workshop_example_dataset_GSE161529_33K.h5ad' )\n",
    "\n",
    "adata_t <- read_h5ad(file_h5ad)\n",
    "adata_t"
   ]
  },
  {
   "cell_type": "markdown",
   "id": "abb22c71-1e79-46ab-81e9-cc7d769c2511",
   "metadata": {
    "id": "abb22c71-1e79-46ab-81e9-cc7d769c2511"
   },
   "source": [
    "### __3. Get mapping to KEGG pathway__"
   ]
  },
  {
   "cell_type": "code",
   "execution_count": 8,
   "id": "e081c917-3455-41ea-8981-9740f945de64",
   "metadata": {
    "colab": {
     "base_uri": "https://localhost:8080/"
    },
    "executionInfo": {
     "elapsed": 174818,
     "status": "ok",
     "timestamp": 1736440430035,
     "user": {
      "displayName": "mlbi MLBI Lab",
      "userId": "07199555727956947340"
     },
     "user_tz": -540
    },
    "id": "e081c917-3455-41ea-8981-9740f945de64",
    "outputId": "07cb06bb-1391-4aec-acc6-fd40eb6fac7e"
   },
   "outputs": [
    {
     "name": "stdout",
     "output_type": "stream",
     "text": [
      "Converting Pathways DB .. done.        \n"
     ]
    }
   ],
   "source": [
    "species <- adata_t$uns[['usr_param']][['species']]\n",
    "pathways.used <- adata_t$uns[['Pathways_DB']]\n",
    "\n",
    "df_pathways_map <- get_pathways_map( pathways.used, species, min_overlap = 0.85 )"
   ]
  },
  {
   "cell_type": "code",
   "execution_count": 72,
   "id": "c0d14f57-e293-448c-949a-5cae542f306e",
   "metadata": {},
   "outputs": [
    {
     "data": {
      "text/html": [
       "<table class=\"dataframe\">\n",
       "<caption>A data.frame: 6 × 4</caption>\n",
       "<thead>\n",
       "\t<tr><th></th><th scope=col>pw_id</th><th scope=col>pw_name</th><th scope=col>pw_id_name</th><th scope=col>pw_name_used</th></tr>\n",
       "\t<tr><th></th><th scope=col>&lt;chr&gt;</th><th scope=col>&lt;chr&gt;</th><th scope=col>&lt;chr&gt;</th><th scope=col>&lt;chr&gt;</th></tr>\n",
       "</thead>\n",
       "<tbody>\n",
       "\t<tr><th scope=row>hsa02010 ABC transporters</th><td>hsa02010</td><td>ABC transporters                                    </td><td>hsa02010 ABC transporters                                    </td><td>ABC transporters                                    </td></tr>\n",
       "\t<tr><th scope=row>hsa04933 AGE-RAGE signaling pathway in diabetic complications</th><td>hsa04933</td><td>AGE-RAGE signaling pathway in diabetic complications</td><td>hsa04933 AGE-RAGE signaling pathway in diabetic complications</td><td>AGE-RAGE signaling pathway in diabetic complications</td></tr>\n",
       "\t<tr><th scope=row>hsa04152 AMPK signaling pathway</th><td>hsa04152</td><td>AMPK signaling pathway                              </td><td>hsa04152 AMPK signaling pathway                              </td><td>AMPK signaling pathway                              </td></tr>\n",
       "\t<tr><th scope=row>hsa05221 Acute myeloid leukemia</th><td>hsa05221</td><td>Acute myeloid leukemia                              </td><td>hsa05221 Acute myeloid leukemia                              </td><td>Acute myeloid leukemia                              </td></tr>\n",
       "\t<tr><th scope=row>hsa04520 Adherens junction</th><td>hsa04520</td><td>Adherens junction                                   </td><td>hsa04520 Adherens junction                                   </td><td>Adherens junction                                   </td></tr>\n",
       "\t<tr><th scope=row>hsa04920 Adipocytokine signaling pathway</th><td>hsa04920</td><td>Adipocytokine signaling pathway                     </td><td>hsa04920 Adipocytokine signaling pathway                     </td><td>Adipocytokine signaling pathway                     </td></tr>\n",
       "</tbody>\n",
       "</table>\n"
      ],
      "text/latex": [
       "A data.frame: 6 × 4\n",
       "\\begin{tabular}{r|llll}\n",
       "  & pw\\_id & pw\\_name & pw\\_id\\_name & pw\\_name\\_used\\\\\n",
       "  & <chr> & <chr> & <chr> & <chr>\\\\\n",
       "\\hline\n",
       "\thsa02010 ABC transporters & hsa02010 & ABC transporters                                     & hsa02010 ABC transporters                                     & ABC transporters                                    \\\\\n",
       "\thsa04933 AGE-RAGE signaling pathway in diabetic complications & hsa04933 & AGE-RAGE signaling pathway in diabetic complications & hsa04933 AGE-RAGE signaling pathway in diabetic complications & AGE-RAGE signaling pathway in diabetic complications\\\\\n",
       "\thsa04152 AMPK signaling pathway & hsa04152 & AMPK signaling pathway                               & hsa04152 AMPK signaling pathway                               & AMPK signaling pathway                              \\\\\n",
       "\thsa05221 Acute myeloid leukemia & hsa05221 & Acute myeloid leukemia                               & hsa05221 Acute myeloid leukemia                               & Acute myeloid leukemia                              \\\\\n",
       "\thsa04520 Adherens junction & hsa04520 & Adherens junction                                    & hsa04520 Adherens junction                                    & Adherens junction                                   \\\\\n",
       "\thsa04920 Adipocytokine signaling pathway & hsa04920 & Adipocytokine signaling pathway                      & hsa04920 Adipocytokine signaling pathway                      & Adipocytokine signaling pathway                     \\\\\n",
       "\\end{tabular}\n"
      ],
      "text/markdown": [
       "\n",
       "A data.frame: 6 × 4\n",
       "\n",
       "| <!--/--> | pw_id &lt;chr&gt; | pw_name &lt;chr&gt; | pw_id_name &lt;chr&gt; | pw_name_used &lt;chr&gt; |\n",
       "|---|---|---|---|---|\n",
       "| hsa02010 ABC transporters | hsa02010 | ABC transporters                                     | hsa02010 ABC transporters                                     | ABC transporters                                     |\n",
       "| hsa04933 AGE-RAGE signaling pathway in diabetic complications | hsa04933 | AGE-RAGE signaling pathway in diabetic complications | hsa04933 AGE-RAGE signaling pathway in diabetic complications | AGE-RAGE signaling pathway in diabetic complications |\n",
       "| hsa04152 AMPK signaling pathway | hsa04152 | AMPK signaling pathway                               | hsa04152 AMPK signaling pathway                               | AMPK signaling pathway                               |\n",
       "| hsa05221 Acute myeloid leukemia | hsa05221 | Acute myeloid leukemia                               | hsa05221 Acute myeloid leukemia                               | Acute myeloid leukemia                               |\n",
       "| hsa04520 Adherens junction | hsa04520 | Adherens junction                                    | hsa04520 Adherens junction                                    | Adherens junction                                    |\n",
       "| hsa04920 Adipocytokine signaling pathway | hsa04920 | Adipocytokine signaling pathway                      | hsa04920 Adipocytokine signaling pathway                      | Adipocytokine signaling pathway                      |\n",
       "\n"
      ],
      "text/plain": [
       "                                                              pw_id   \n",
       "hsa02010 ABC transporters                                     hsa02010\n",
       "hsa04933 AGE-RAGE signaling pathway in diabetic complications hsa04933\n",
       "hsa04152 AMPK signaling pathway                               hsa04152\n",
       "hsa05221 Acute myeloid leukemia                               hsa05221\n",
       "hsa04520 Adherens junction                                    hsa04520\n",
       "hsa04920 Adipocytokine signaling pathway                      hsa04920\n",
       "                                                              pw_name                                             \n",
       "hsa02010 ABC transporters                                     ABC transporters                                    \n",
       "hsa04933 AGE-RAGE signaling pathway in diabetic complications AGE-RAGE signaling pathway in diabetic complications\n",
       "hsa04152 AMPK signaling pathway                               AMPK signaling pathway                              \n",
       "hsa05221 Acute myeloid leukemia                               Acute myeloid leukemia                              \n",
       "hsa04520 Adherens junction                                    Adherens junction                                   \n",
       "hsa04920 Adipocytokine signaling pathway                      Adipocytokine signaling pathway                     \n",
       "                                                              pw_id_name                                                   \n",
       "hsa02010 ABC transporters                                     hsa02010 ABC transporters                                    \n",
       "hsa04933 AGE-RAGE signaling pathway in diabetic complications hsa04933 AGE-RAGE signaling pathway in diabetic complications\n",
       "hsa04152 AMPK signaling pathway                               hsa04152 AMPK signaling pathway                              \n",
       "hsa05221 Acute myeloid leukemia                               hsa05221 Acute myeloid leukemia                              \n",
       "hsa04520 Adherens junction                                    hsa04520 Adherens junction                                   \n",
       "hsa04920 Adipocytokine signaling pathway                      hsa04920 Adipocytokine signaling pathway                     \n",
       "                                                              pw_name_used                                        \n",
       "hsa02010 ABC transporters                                     ABC transporters                                    \n",
       "hsa04933 AGE-RAGE signaling pathway in diabetic complications AGE-RAGE signaling pathway in diabetic complications\n",
       "hsa04152 AMPK signaling pathway                               AMPK signaling pathway                              \n",
       "hsa05221 Acute myeloid leukemia                               Acute myeloid leukemia                              \n",
       "hsa04520 Adherens junction                                    Adherens junction                                   \n",
       "hsa04920 Adipocytokine signaling pathway                      Adipocytokine signaling pathway                     "
      ]
     },
     "metadata": {},
     "output_type": "display_data"
    }
   ],
   "source": [
    "head(df_pathways_map)"
   ]
  },
  {
   "cell_type": "markdown",
   "id": "1d5eb833",
   "metadata": {
    "id": "1d5eb833"
   },
   "source": [
    "### __4. Generate KEGG pathview__"
   ]
  },
  {
   "cell_type": "code",
   "execution_count": 11,
   "id": "26508cd1-97df-4c4e-a7f7-4a3d9bc432d3",
   "metadata": {},
   "outputs": [
    {
     "name": "stdout",
     "output_type": "stream",
     "text": [
      "Getting fold changes .. \n",
      "     Aneuploid Epithelial cell: ER+_vs_others(1857), HER2+_vs_others(1584), TNBC_vs_others(3388)\n",
      "                        B cell: HER2+_vs_others(6), TNBC_vs_others(9)\n",
      "       Diploid Epithelial cell: ER+_vs_others(229), HER2+_vs_others(109), Normal_vs_others(2564), TNBC_vs_others(170)\n",
      "              Endothelial cell: ER+_vs_others(12), HER2+_vs_others(14), Normal_vs_others(1656), TNBC_vs_others(45)\n",
      "               Epithelial cell: Diploid_vs_others(1546), ER+_vs_others(1131), HER2+_vs_others(1089), Normal_vs_others(1995), TNBC_vs_others(1813)\n",
      "                    Fibroblast: ER+_vs_others(100), HER2+_vs_others(36), Normal_vs_others(2907), TNBC_vs_others(273)\n",
      "                           ILC: ER+_vs_others(12), HER2+_vs_others(5), Normal_vs_others(164), TNBC_vs_others(5)\n",
      "                    Macrophage: ER+_vs_others(73), HER2+_vs_others(46), Normal_vs_others(1242), TNBC_vs_others(193)\n",
      "                     Mast cell: ER+_vs_others(19)\n",
      "                   Plasma cell: ER+_vs_others(13), HER2+_vs_others(19), TNBC_vs_others(22)\n",
      "                   T cell CD4+: ER+_vs_others(11), HER2+_vs_others(6), TNBC_vs_others(24)\n",
      "                   T cell CD8+: ER+_vs_others(11), HER2+_vs_others(11), TNBC_vs_others(26)\n",
      "Getting fold changes .. done. \n"
     ]
    }
   ],
   "source": [
    "lst.deg.all <- adata_t$uns[['DEG']]\n",
    "lst.gsa.all <- adata_t$uns[['GSA_up']]\n",
    "\n",
    "lst.fcs.all <- get_all_fold_changes( lst.deg.all, species, pval.cutoff = 1e-4 )"
   ]
  },
  {
   "cell_type": "code",
   "execution_count": 12,
   "id": "d4c3b2e5-628e-4fcd-99f9-c4fa3216b1b0",
   "metadata": {
    "colab": {
     "base_uri": "https://localhost:8080/"
    },
    "executionInfo": {
     "elapsed": 197275,
     "status": "ok",
     "timestamp": 1736441831214,
     "user": {
      "displayName": "mlbi MLBI Lab",
      "userId": "07199555727956947340"
     },
     "user_tz": -540
    },
    "id": "d4c3b2e5-628e-4fcd-99f9-c4fa3216b1b0",
    "outputId": "7bfbfa86-f035-4318-98c7-96b62d7337dd"
   },
   "outputs": [
    {
     "name": "stdout",
     "output_type": "stream",
     "text": [
      "               Epithelial cell: 5/5 - 12/12 - Huntington's disease                is                     \n"
     ]
    }
   ],
   "source": [
    "target_cell <- 'Epithelial cell'\n",
    "dir_saved <- save_kegg_pathviews( target_cell, lst.gsa.all,\n",
    "                                  lst.fcs.all, df_pathways_map,\n",
    "                                  species, gsa.p.val.cutoff = 1e-4 )"
   ]
  },
  {
   "cell_type": "code",
   "execution_count": 73,
   "id": "fed43af9-3f85-4df5-8655-9346685bc1ec",
   "metadata": {
    "id": "fed43af9-3f85-4df5-8655-9346685bc1ec"
   },
   "outputs": [
    {
     "data": {
      "text/html": [
       "'KEGG_pathview_Epithelial cell'"
      ],
      "text/latex": [
       "'KEGG\\_pathview\\_Epithelial cell'"
      ],
      "text/markdown": [
       "'KEGG_pathview_Epithelial cell'"
      ],
      "text/plain": [
       "[1] \"KEGG_pathview_Epithelial cell\""
      ]
     },
     "metadata": {},
     "output_type": "display_data"
    }
   ],
   "source": [
    "dir_saved"
   ]
  },
  {
   "cell_type": "code",
   "execution_count": null,
   "id": "921406b2-ca95-4c2b-83c3-a9d981fbc660",
   "metadata": {
    "id": "921406b2-ca95-4c2b-83c3-a9d981fbc660",
    "outputId": "28b9c676-01b4-46f5-d066-51f9d84a1958"
   },
   "outputs": [
    {
     "data": {
      "text/html": [
       "<style>\n",
       ".list-inline {list-style: none; margin:0; padding: 0}\n",
       ".list-inline>li {display: inline-block}\n",
       ".list-inline>li:not(:last-child)::after {content: \"\\00b7\"; padding: 0 .5ex}\n",
       "</style>\n",
       "<ol class=list-inline><li>'Aneuploid Epithelial cell'</li><li>'B cell'</li><li>'Diploid Epithelial cell'</li><li>'Endothelial cell'</li><li>'Epithelial cell'</li><li>'Fibroblast'</li><li>'ILC'</li><li>'Macrophage'</li><li>'Plasma cell'</li><li>'Smooth muscle cell'</li><li>'T cell CD4+'</li><li>'T cell CD8+'</li></ol>\n"
      ],
      "text/latex": [
       "\\begin{enumerate*}\n",
       "\\item 'Aneuploid Epithelial cell'\n",
       "\\item 'B cell'\n",
       "\\item 'Diploid Epithelial cell'\n",
       "\\item 'Endothelial cell'\n",
       "\\item 'Epithelial cell'\n",
       "\\item 'Fibroblast'\n",
       "\\item 'ILC'\n",
       "\\item 'Macrophage'\n",
       "\\item 'Plasma cell'\n",
       "\\item 'Smooth muscle cell'\n",
       "\\item 'T cell CD4+'\n",
       "\\item 'T cell CD8+'\n",
       "\\end{enumerate*}\n"
      ],
      "text/markdown": [
       "1. 'Aneuploid Epithelial cell'\n",
       "2. 'B cell'\n",
       "3. 'Diploid Epithelial cell'\n",
       "4. 'Endothelial cell'\n",
       "5. 'Epithelial cell'\n",
       "6. 'Fibroblast'\n",
       "7. 'ILC'\n",
       "8. 'Macrophage'\n",
       "9. 'Plasma cell'\n",
       "10. 'Smooth muscle cell'\n",
       "11. 'T cell CD4+'\n",
       "12. 'T cell CD8+'\n",
       "\n",
       "\n"
      ],
      "text/plain": [
       " [1] \"Aneuploid Epithelial cell\" \"B cell\"                   \n",
       " [3] \"Diploid Epithelial cell\"   \"Endothelial cell\"         \n",
       " [5] \"Epithelial cell\"           \"Fibroblast\"               \n",
       " [7] \"ILC\"                       \"Macrophage\"               \n",
       " [9] \"Plasma cell\"               \"Smooth muscle cell\"       \n",
       "[11] \"T cell CD4+\"               \"T cell CD8+\"              "
      ]
     },
     "metadata": {},
     "output_type": "display_data"
    }
   ],
   "source": [
    "names(lst.fcs.all)"
   ]
  },
  {
   "cell_type": "code",
   "execution_count": null,
   "id": "9e19ec32-e8b7-4d78-881b-6c07f03048d4",
   "metadata": {
    "id": "9e19ec32-e8b7-4d78-881b-6c07f03048d4"
   },
   "outputs": [],
   "source": [
    "for( target_cell in names(lst.fcs.all) )\n",
    "{\n",
    "    dir_saved <- save_kegg_pathviews( target_cell, lst.gsa.all, lst.fcs.all, df_pathways_map, species, \n",
    "                                      gsa.p.val.cutoff = 0.01 )\n",
    "}"
   ]
  },
  {
   "cell_type": "code",
   "execution_count": null,
   "id": "f09de3f7-5ac0-4508-8aaf-974240e821b5",
   "metadata": {
    "id": "f09de3f7-5ac0-4508-8aaf-974240e821b5"
   },
   "outputs": [],
   "source": []
  },
  {
   "cell_type": "code",
   "execution_count": null,
   "id": "1769ce45-4edd-49d6-b6ba-060fc5f7d4f5",
   "metadata": {
    "id": "1769ce45-4edd-49d6-b6ba-060fc5f7d4f5"
   },
   "outputs": [],
   "source": []
  },
  {
   "cell_type": "code",
   "execution_count": null,
   "id": "226d9950-9866-4291-a841-2605a5bd550c",
   "metadata": {
    "id": "226d9950-9866-4291-a841-2605a5bd550c"
   },
   "outputs": [],
   "source": []
  },
  {
   "cell_type": "code",
   "execution_count": null,
   "id": "9cce76ee-42f7-4f09-b430-252360c1ece0",
   "metadata": {
    "id": "9cce76ee-42f7-4f09-b430-252360c1ece0"
   },
   "outputs": [],
   "source": []
  }
 ],
 "metadata": {
  "colab": {
   "provenance": []
  },
  "kernelspec": {
   "display_name": "R",
   "language": "R",
   "name": "ir"
  },
  "language_info": {
   "codemirror_mode": "r",
   "file_extension": ".r",
   "mimetype": "text/x-r-source",
   "name": "R",
   "pygments_lexer": "r",
   "version": "4.3.3"
  }
 },
 "nbformat": 4,
 "nbformat_minor": 5
}
