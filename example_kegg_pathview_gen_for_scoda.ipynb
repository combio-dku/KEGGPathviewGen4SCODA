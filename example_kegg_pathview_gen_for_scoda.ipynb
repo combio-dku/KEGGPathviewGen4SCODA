{
  "cells": [
    {
      "cell_type": "markdown",
      "id": "8a120c54",
      "metadata": {
        "id": "8a120c54"
      },
      "source": [
        "# R workshop: <font color=blue> Generating KEGG Pathway view </font>\n",
        "\n",
        "#### MLBI@DKU\n",
        "Seokhyun Yoon, Jan. 09, 2025, syoon@dku.edu"
      ]
    },
    {
      "cell_type": "markdown",
      "id": "fd1c4555-9961-43ca-8d9d-1346c858ce29",
      "metadata": {
        "id": "fd1c4555-9961-43ca-8d9d-1346c858ce29"
      },
      "source": [
        "### __0. Install required R packages (skip if they are already installed)__"
      ]
    },
    {
      "cell_type": "code",
      "execution_count": null,
      "id": "2b34753b-259f-43b7-a88a-49848f5eb80c",
      "metadata": {
        "id": "2b34753b-259f-43b7-a88a-49848f5eb80c",
        "scrolled": true
      },
      "outputs": [],
      "source": [
        "if (!requireNamespace(\"BiocManager\", quietly = TRUE))\n",
        "  install.packages(\"BiocManager\")\n",
        "BiocManager::install(\"biocLite\")\n",
        "## BiocManager::install()"
      ]
    },
    {
      "cell_type": "code",
      "execution_count": null,
      "id": "26bbf7e6-0f2b-4c6c-b96e-3cabed087730",
      "metadata": {
        "id": "26bbf7e6-0f2b-4c6c-b96e-3cabed087730"
      },
      "outputs": [],
      "source": [
        "BiocManager::install(\"org.Mm.eg.db\")\n",
        "BiocManager::install(\"org.Hs.eg.db\")\n",
        "BiocManager::install(\"biomaRt\")\n",
        "BiocManager::install(\"gageData\")\n",
        "BiocManager::install(\"gage\")\n",
        "BiocManager::install(\"pathview\")\n",
        "install.packages(\"filesstrings\")\n",
        "install.packages(\"anndata\")"
      ]
    },
    {
      "cell_type": "code",
      "execution_count": 3,
      "id": "aqNo2kTM29W_",
      "metadata": {
        "id": "aqNo2kTM29W_"
      },
      "outputs": [],
      "source": [
        "## Install anndata if it was not\n",
        "system('pip install anndata')"
      ]
    },
    {
      "cell_type": "code",
      "execution_count": null,
      "id": "cuTMrKyJsFPQ",
      "metadata": {
        "id": "cuTMrKyJsFPQ"
      },
      "outputs": [],
      "source": [
        "devtools::install_github(\"combio-dku/KEGGPathviewGen4SCODA\")"
      ]
    },
    {
      "cell_type": "markdown",
      "id": "bf7c06f0-002e-49b6-86da-a30057a8bd3e",
      "metadata": {
        "id": "bf7c06f0-002e-49b6-86da-a30057a8bd3e"
      },
      "source": [
        "### __1. Load libraries and data__"
      ]
    },
    {
      "cell_type": "code",
      "execution_count": 5,
      "id": "2fe136bf-ddd0-4b3f-98d1-d902d60e6f86",
      "metadata": {
        "id": "2fe136bf-ddd0-4b3f-98d1-d902d60e6f86"
      },
      "outputs": [],
      "source": [
        "suppressPackageStartupMessages(library(stringr))\n",
        "suppressPackageStartupMessages(library(dplyr))\n",
        "suppressPackageStartupMessages(library(filesstrings))\n",
        "suppressPackageStartupMessages(library(pathview))\n",
        "suppressPackageStartupMessages(library(gage))\n",
        "suppressPackageStartupMessages(library(gageData))\n",
        "suppressPackageStartupMessages(library(org.Hs.eg.db))\n",
        "suppressPackageStartupMessages(library(org.Mm.eg.db))\n",
        "suppressPackageStartupMessages(library(reticulate))\n",
        "suppressPackageStartupMessages(library(anndata))\n",
        "suppressPackageStartupMessages(library(KEGGPathviewGen4SCODA))"
      ]
    },
    {
      "cell_type": "markdown",
      "id": "73b84cad",
      "metadata": {
        "id": "73b84cad"
      },
      "source": [
        "### __2. Load SCODA result__"
      ]
    },
    {
      "cell_type": "code",
      "execution_count": 6,
      "id": "68b46c7b-29d3-4726-827b-e6c8cab9f501",
      "metadata": {
        "colab": {
          "base_uri": "https://localhost:8080/",
          "height": 34
        },
        "id": "68b46c7b-29d3-4726-827b-e6c8cab9f501",
        "outputId": "1bf8a806-4e06-4373-aa24-eaacbacbfc72"
      },
      "outputs": [
        {
          "output_type": "display_data",
          "data": {
            "text/html": [
              "<style>\n",
              ".list-inline {list-style: none; margin:0; padding: 0}\n",
              ".list-inline>li {display: inline-block}\n",
              ".list-inline>li:not(:last-child)::after {content: \"\\00b7\"; padding: 0 .5ex}\n",
              "</style>\n",
              "<ol class=list-inline><li>'example_human_brca_12k_results.h5ad.tar.gz'</li><li>'sample_data'</li></ol>\n"
            ],
            "text/markdown": "1. 'example_human_brca_12k_results.h5ad.tar.gz'\n2. 'sample_data'\n\n\n",
            "text/latex": "\\begin{enumerate*}\n\\item 'example\\_human\\_brca\\_12k\\_results.h5ad.tar.gz'\n\\item 'sample\\_data'\n\\end{enumerate*}\n",
            "text/plain": [
              "[1] \"example_human_brca_12k_results.h5ad.tar.gz\"\n",
              "[2] \"sample_data\"                               "
            ]
          },
          "metadata": {}
        }
      ],
      "source": [
        "data.dir <- \"./\"\n",
        "\n",
        "flst <- list.files(data.dir)\n",
        "flst"
      ]
    },
    {
      "cell_type": "code",
      "execution_count": 7,
      "id": "loyOWElv111g",
      "metadata": {
        "id": "loyOWElv111g"
      },
      "outputs": [],
      "source": [
        "file <- 'example_human_brca_12k_results.h5ad.tar.gz'\n",
        "untar(file)"
      ]
    },
    {
      "cell_type": "code",
      "execution_count": 8,
      "id": "53d71bfb-9ee5-497d-acd9-9c5dc99c85d7",
      "metadata": {
        "colab": {
          "base_uri": "https://localhost:8080/",
          "height": 214
        },
        "id": "53d71bfb-9ee5-497d-acd9-9c5dc99c85d7",
        "outputId": "025726c4-75ab-4fe5-f3f0-89e05c55ac10"
      },
      "outputs": [
        {
          "output_type": "display_data",
          "data": {
            "text/plain": [
              "AnnData object with n_obs × n_vars = 12000 × 19438\n",
              "    obs: 'Patient', 'Percent_mito', 'nCount_RNA', 'nFeature_RNA', 'Celltype_Major', 'Celltype_Minor', 'Celltype_Subset', 'subtype', 'gene_module', 'Calls', 'normal_cell_call', 'CNA_value', 'sample', 'condition', 'sample_rev', 'sample_ext', 'celltype_major', 'celltype_minor', 'celltype_subset', 'cnv_ref_ind', 'ploidy_score', 'ploidy_dec', 'condition_for_deg', 'sample_ext_for_deg', 'celltype_for_deg', 'celltype_for_cci', 'tumor_origin_ind'\n",
              "    var: 'gene_ids', 'variable_genes', 'chr', 'spot_no'\n",
              "    uns: 'CCI', 'CCI_sample', 'Celltype_marker_DB', 'DEG', 'DEG_grouping_vars', 'DEG_stat', 'GSA_down', 'GSA_up', 'GSEA', 'Pathways_DB', 'analysis_parameters', 'cnv', 'cnv_neighbors_info', 'inferploidy_summary', 'log', 'lut_sample_to_cond', 'usr_param'\n",
              "    obsm: 'HiCAT_result', 'X_cnv', 'X_cnv_pca', 'X_pca', 'inferploidy_results'\n",
              "    obsp: 'cnv_neighbor_graph_connectivity', 'cnv_neighbor_graph_distance'"
            ]
          },
          "metadata": {}
        }
      ],
      "source": [
        "### Load data & extract cell-gene matrix as a data.frame (rownames: cell barcode, colnames: gene symbol)\n",
        "file_h5ad <- 'example_human_brca_12k_results.h5ad'\n",
        "\n",
        "adata_t <- read_h5ad(file_h5ad)\n",
        "adata_t"
      ]
    },
    {
      "cell_type": "markdown",
      "id": "abb22c71-1e79-46ab-81e9-cc7d769c2511",
      "metadata": {
        "id": "abb22c71-1e79-46ab-81e9-cc7d769c2511"
      },
      "source": [
        "### __3. Get mapping to KEGG pathway__"
      ]
    },
    {
      "cell_type": "code",
      "execution_count": 9,
      "id": "e081c917-3455-41ea-8981-9740f945de64",
      "metadata": {
        "colab": {
          "base_uri": "https://localhost:8080/"
        },
        "id": "e081c917-3455-41ea-8981-9740f945de64",
        "outputId": "33ec20b9-5602-44da-f58f-e3bbd28c035c"
      },
      "outputs": [
        {
          "output_type": "stream",
          "name": "stdout",
          "text": [
            "Converting Pathways DB .. done.        \n"
          ]
        }
      ],
      "source": [
        "species <- adata_t$uns[['usr_param']][['species']]\n",
        "pathways.used <- adata_t$uns[['Pathways_DB']]\n",
        "\n",
        "df_pathways_map <- get_pathways_map( pathways.used, species, min_overlap = 0.85 )"
      ]
    },
    {
      "cell_type": "code",
      "execution_count": 10,
      "id": "c0d14f57-e293-448c-949a-5cae542f306e",
      "metadata": {
        "colab": {
          "base_uri": "https://localhost:8080/",
          "height": 373
        },
        "id": "c0d14f57-e293-448c-949a-5cae542f306e",
        "outputId": "e2a53cea-e772-44a0-95c3-a535eb4c520c"
      },
      "outputs": [
        {
          "output_type": "display_data",
          "data": {
            "text/html": [
              "<table class=\"dataframe\">\n",
              "<caption>A data.frame: 6 × 4</caption>\n",
              "<thead>\n",
              "\t<tr><th></th><th scope=col>pw_id</th><th scope=col>pw_name</th><th scope=col>pw_id_name</th><th scope=col>pw_name_used</th></tr>\n",
              "\t<tr><th></th><th scope=col>&lt;chr&gt;</th><th scope=col>&lt;chr&gt;</th><th scope=col>&lt;chr&gt;</th><th scope=col>&lt;chr&gt;</th></tr>\n",
              "</thead>\n",
              "<tbody>\n",
              "\t<tr><th scope=row>hsa02010 ABC transporters</th><td>hsa02010</td><td>ABC transporters                                    </td><td>hsa02010 ABC transporters                                    </td><td>ABC transporters                                    </td></tr>\n",
              "\t<tr><th scope=row>hsa04933 AGE-RAGE signaling pathway in diabetic complications</th><td>hsa04933</td><td>AGE-RAGE signaling pathway in diabetic complications</td><td>hsa04933 AGE-RAGE signaling pathway in diabetic complications</td><td>AGE-RAGE signaling pathway in diabetic complications</td></tr>\n",
              "\t<tr><th scope=row>hsa04152 AMPK signaling pathway</th><td>hsa04152</td><td>AMPK signaling pathway                              </td><td>hsa04152 AMPK signaling pathway                              </td><td>AMPK signaling pathway                              </td></tr>\n",
              "\t<tr><th scope=row>hsa05221 Acute myeloid leukemia</th><td>hsa05221</td><td>Acute myeloid leukemia                              </td><td>hsa05221 Acute myeloid leukemia                              </td><td>Acute myeloid leukemia                              </td></tr>\n",
              "\t<tr><th scope=row>hsa04520 Adherens junction</th><td>hsa04520</td><td>Adherens junction                                   </td><td>hsa04520 Adherens junction                                   </td><td>Adherens junction                                   </td></tr>\n",
              "\t<tr><th scope=row>hsa04920 Adipocytokine signaling pathway</th><td>hsa04920</td><td>Adipocytokine signaling pathway                     </td><td>hsa04920 Adipocytokine signaling pathway                     </td><td>Adipocytokine signaling pathway                     </td></tr>\n",
              "</tbody>\n",
              "</table>\n"
            ],
            "text/markdown": "\nA data.frame: 6 × 4\n\n| <!--/--> | pw_id &lt;chr&gt; | pw_name &lt;chr&gt; | pw_id_name &lt;chr&gt; | pw_name_used &lt;chr&gt; |\n|---|---|---|---|---|\n| hsa02010 ABC transporters | hsa02010 | ABC transporters                                     | hsa02010 ABC transporters                                     | ABC transporters                                     |\n| hsa04933 AGE-RAGE signaling pathway in diabetic complications | hsa04933 | AGE-RAGE signaling pathway in diabetic complications | hsa04933 AGE-RAGE signaling pathway in diabetic complications | AGE-RAGE signaling pathway in diabetic complications |\n| hsa04152 AMPK signaling pathway | hsa04152 | AMPK signaling pathway                               | hsa04152 AMPK signaling pathway                               | AMPK signaling pathway                               |\n| hsa05221 Acute myeloid leukemia | hsa05221 | Acute myeloid leukemia                               | hsa05221 Acute myeloid leukemia                               | Acute myeloid leukemia                               |\n| hsa04520 Adherens junction | hsa04520 | Adherens junction                                    | hsa04520 Adherens junction                                    | Adherens junction                                    |\n| hsa04920 Adipocytokine signaling pathway | hsa04920 | Adipocytokine signaling pathway                      | hsa04920 Adipocytokine signaling pathway                      | Adipocytokine signaling pathway                      |\n\n",
            "text/latex": "A data.frame: 6 × 4\n\\begin{tabular}{r|llll}\n  & pw\\_id & pw\\_name & pw\\_id\\_name & pw\\_name\\_used\\\\\n  & <chr> & <chr> & <chr> & <chr>\\\\\n\\hline\n\thsa02010 ABC transporters & hsa02010 & ABC transporters                                     & hsa02010 ABC transporters                                     & ABC transporters                                    \\\\\n\thsa04933 AGE-RAGE signaling pathway in diabetic complications & hsa04933 & AGE-RAGE signaling pathway in diabetic complications & hsa04933 AGE-RAGE signaling pathway in diabetic complications & AGE-RAGE signaling pathway in diabetic complications\\\\\n\thsa04152 AMPK signaling pathway & hsa04152 & AMPK signaling pathway                               & hsa04152 AMPK signaling pathway                               & AMPK signaling pathway                              \\\\\n\thsa05221 Acute myeloid leukemia & hsa05221 & Acute myeloid leukemia                               & hsa05221 Acute myeloid leukemia                               & Acute myeloid leukemia                              \\\\\n\thsa04520 Adherens junction & hsa04520 & Adherens junction                                    & hsa04520 Adherens junction                                    & Adherens junction                                   \\\\\n\thsa04920 Adipocytokine signaling pathway & hsa04920 & Adipocytokine signaling pathway                      & hsa04920 Adipocytokine signaling pathway                      & Adipocytokine signaling pathway                     \\\\\n\\end{tabular}\n",
            "text/plain": [
              "                                                              pw_id   \n",
              "hsa02010 ABC transporters                                     hsa02010\n",
              "hsa04933 AGE-RAGE signaling pathway in diabetic complications hsa04933\n",
              "hsa04152 AMPK signaling pathway                               hsa04152\n",
              "hsa05221 Acute myeloid leukemia                               hsa05221\n",
              "hsa04520 Adherens junction                                    hsa04520\n",
              "hsa04920 Adipocytokine signaling pathway                      hsa04920\n",
              "                                                              pw_name                                             \n",
              "hsa02010 ABC transporters                                     ABC transporters                                    \n",
              "hsa04933 AGE-RAGE signaling pathway in diabetic complications AGE-RAGE signaling pathway in diabetic complications\n",
              "hsa04152 AMPK signaling pathway                               AMPK signaling pathway                              \n",
              "hsa05221 Acute myeloid leukemia                               Acute myeloid leukemia                              \n",
              "hsa04520 Adherens junction                                    Adherens junction                                   \n",
              "hsa04920 Adipocytokine signaling pathway                      Adipocytokine signaling pathway                     \n",
              "                                                              pw_id_name                                                   \n",
              "hsa02010 ABC transporters                                     hsa02010 ABC transporters                                    \n",
              "hsa04933 AGE-RAGE signaling pathway in diabetic complications hsa04933 AGE-RAGE signaling pathway in diabetic complications\n",
              "hsa04152 AMPK signaling pathway                               hsa04152 AMPK signaling pathway                              \n",
              "hsa05221 Acute myeloid leukemia                               hsa05221 Acute myeloid leukemia                              \n",
              "hsa04520 Adherens junction                                    hsa04520 Adherens junction                                   \n",
              "hsa04920 Adipocytokine signaling pathway                      hsa04920 Adipocytokine signaling pathway                     \n",
              "                                                              pw_name_used                                        \n",
              "hsa02010 ABC transporters                                     ABC transporters                                    \n",
              "hsa04933 AGE-RAGE signaling pathway in diabetic complications AGE-RAGE signaling pathway in diabetic complications\n",
              "hsa04152 AMPK signaling pathway                               AMPK signaling pathway                              \n",
              "hsa05221 Acute myeloid leukemia                               Acute myeloid leukemia                              \n",
              "hsa04520 Adherens junction                                    Adherens junction                                   \n",
              "hsa04920 Adipocytokine signaling pathway                      Adipocytokine signaling pathway                     "
            ]
          },
          "metadata": {}
        }
      ],
      "source": [
        "head(df_pathways_map)"
      ]
    },
    {
      "cell_type": "markdown",
      "id": "1d5eb833",
      "metadata": {
        "id": "1d5eb833"
      },
      "source": [
        "### __4. Generate KEGG pathview__"
      ]
    },
    {
      "cell_type": "code",
      "execution_count": 11,
      "id": "26508cd1-97df-4c4e-a7f7-4a3d9bc432d3",
      "metadata": {
        "colab": {
          "base_uri": "https://localhost:8080/"
        },
        "id": "26508cd1-97df-4c4e-a7f7-4a3d9bc432d3",
        "outputId": "8f487d95-dc09-46d4-ddee-7182e3e0a99d"
      },
      "outputs": [
        {
          "output_type": "stream",
          "name": "stdout",
          "text": [
            "Getting fold changes .. \n",
            "     Aneuploid Epithelial cell: ER+_vs_others(3211), HER2+_vs_others(2159), TNBC_vs_others(2664)\n",
            "                        B cell: ER+_vs_others(55), HER2+_vs_others(16), TNBC_vs_others(171)\n",
            "       Diploid Epithelial cell: HER2+_vs_others(72), TNBC_vs_others(157)\n",
            "              Endothelial cell: ER+_vs_others(173), HER2+_vs_others(35)\n",
            "               Epithelial cell: Diploid_vs_others(871), ER+_vs_others(1363), HER2+_vs_others(943), TNBC_vs_others(1563)\n",
            "                    Fibroblast: ER+_vs_others(338), HER2+_vs_others(93), TNBC_vs_others(270)\n",
            "                           ILC: ER+_vs_others(95), HER2+_vs_others(28)\n",
            "                    Macrophage: ER+_vs_others(443), HER2+_vs_others(101), TNBC_vs_others(262)\n",
            "                   Plasma cell: ER+_vs_others(107), HER2+_vs_others(37), TNBC_vs_others(132)\n",
            "                   T cell CD4+: ER+_vs_others(316), HER2+_vs_others(151), TNBC_vs_others(508)\n",
            "                   T cell CD8+: ER+_vs_others(235), HER2+_vs_others(135), TNBC_vs_others(718)\n",
            "Getting fold changes .. done. \n"
          ]
        }
      ],
      "source": [
        "lst.deg.all <- adata_t$uns[['DEG']]\n",
        "lst.gsa.all <- adata_t$uns[['GSA_up']]\n",
        "\n",
        "lst.fcs.all <- get_all_fold_changes( lst.deg.all, species, pval.cutoff = 1e-4 )"
      ]
    },
    {
      "cell_type": "code",
      "execution_count": 13,
      "id": "d4c3b2e5-628e-4fcd-99f9-c4fa3216b1b0",
      "metadata": {
        "colab": {
          "base_uri": "https://localhost:8080/"
        },
        "id": "d4c3b2e5-628e-4fcd-99f9-c4fa3216b1b0",
        "outputId": "7d570a16-8756-473b-b4da-bce0c221836d"
      },
      "outputs": [
        {
          "output_type": "stream",
          "name": "stdout",
          "text": [
            "     Aneuploid Epithelial cell: 3/3 - 7/7 - Huntington's disease \n"
          ]
        }
      ],
      "source": [
        "target_cell <- 'Aneuploid Epithelial cell'\n",
        "dir_saved <- save_kegg_pathviews( target_cell, lst.gsa.all,\n",
        "                                  lst.fcs.all, df_pathways_map,\n",
        "                                  species, gsa.p.val.cutoff = 1e-4 )"
      ]
    },
    {
      "cell_type": "code",
      "execution_count": null,
      "id": "fed43af9-3f85-4df5-8655-9346685bc1ec",
      "metadata": {
        "id": "fed43af9-3f85-4df5-8655-9346685bc1ec"
      },
      "outputs": [],
      "source": [
        "dir_saved"
      ]
    },
    {
      "cell_type": "markdown",
      "id": "39c4c872-c652-4b50-a35c-0fbf16f7a2ee",
      "metadata": {
        "id": "39c4c872-c652-4b50-a35c-0fbf16f7a2ee"
      },
      "source": [
        "### __Generate KEGG pathview for all cell types__"
      ]
    },
    {
      "cell_type": "code",
      "execution_count": null,
      "id": "921406b2-ca95-4c2b-83c3-a9d981fbc660",
      "metadata": {
        "id": "921406b2-ca95-4c2b-83c3-a9d981fbc660",
        "outputId": "28b9c676-01b4-46f5-d066-51f9d84a1958"
      },
      "outputs": [
        {
          "data": {
            "text/html": [
              "<style>\n",
              ".list-inline {list-style: none; margin:0; padding: 0}\n",
              ".list-inline>li {display: inline-block}\n",
              ".list-inline>li:not(:last-child)::after {content: \"\\00b7\"; padding: 0 .5ex}\n",
              "</style>\n",
              "<ol class=list-inline><li>'Aneuploid unassigned'</li><li>'B cell'</li><li>'Endothelial cell'</li><li>'Fibroblast'</li><li>'ILC'</li><li>'Macrophage'</li><li>'Plasma cell'</li><li>'T cell CD4+'</li><li>'T cell CD8+'</li></ol>\n"
            ],
            "text/latex": [
              "\\begin{enumerate*}\n",
              "\\item 'Aneuploid unassigned'\n",
              "\\item 'B cell'\n",
              "\\item 'Endothelial cell'\n",
              "\\item 'Fibroblast'\n",
              "\\item 'ILC'\n",
              "\\item 'Macrophage'\n",
              "\\item 'Plasma cell'\n",
              "\\item 'T cell CD4+'\n",
              "\\item 'T cell CD8+'\n",
              "\\end{enumerate*}\n"
            ],
            "text/markdown": [
              "1. 'Aneuploid unassigned'\n",
              "2. 'B cell'\n",
              "3. 'Endothelial cell'\n",
              "4. 'Fibroblast'\n",
              "5. 'ILC'\n",
              "6. 'Macrophage'\n",
              "7. 'Plasma cell'\n",
              "8. 'T cell CD4+'\n",
              "9. 'T cell CD8+'\n",
              "\n",
              "\n"
            ],
            "text/plain": [
              "[1] \"Aneuploid unassigned\" \"B cell\"               \"Endothelial cell\"    \n",
              "[4] \"Fibroblast\"           \"ILC\"                  \"Macrophage\"          \n",
              "[7] \"Plasma cell\"          \"T cell CD4+\"          \"T cell CD8+\"         "
            ]
          },
          "metadata": {},
          "output_type": "display_data"
        }
      ],
      "source": [
        "names(lst.fcs.all)"
      ]
    },
    {
      "cell_type": "code",
      "execution_count": null,
      "id": "9e19ec32-e8b7-4d78-881b-6c07f03048d4",
      "metadata": {
        "id": "9e19ec32-e8b7-4d78-881b-6c07f03048d4"
      },
      "outputs": [],
      "source": [
        "for( target_cell in names(lst.fcs.all) )\n",
        "{\n",
        "    dir_saved <- save_kegg_pathviews( target_cell, lst.gsa.all, lst.fcs.all, df_pathways_map, species,\n",
        "                                      gsa.p.val.cutoff = 0.01 )\n",
        "}"
      ]
    },
    {
      "cell_type": "code",
      "execution_count": null,
      "id": "f09de3f7-5ac0-4508-8aaf-974240e821b5",
      "metadata": {
        "id": "f09de3f7-5ac0-4508-8aaf-974240e821b5"
      },
      "outputs": [],
      "source": []
    },
    {
      "cell_type": "code",
      "execution_count": null,
      "id": "1769ce45-4edd-49d6-b6ba-060fc5f7d4f5",
      "metadata": {
        "id": "1769ce45-4edd-49d6-b6ba-060fc5f7d4f5"
      },
      "outputs": [],
      "source": []
    },
    {
      "cell_type": "code",
      "execution_count": null,
      "id": "226d9950-9866-4291-a841-2605a5bd550c",
      "metadata": {
        "id": "226d9950-9866-4291-a841-2605a5bd550c"
      },
      "outputs": [],
      "source": []
    },
    {
      "cell_type": "code",
      "execution_count": null,
      "id": "9cce76ee-42f7-4f09-b430-252360c1ece0",
      "metadata": {
        "id": "9cce76ee-42f7-4f09-b430-252360c1ece0"
      },
      "outputs": [],
      "source": []
    }
  ],
  "metadata": {
    "colab": {
      "provenance": []
    },
    "kernelspec": {
      "display_name": "R",
      "language": "R",
      "name": "ir"
    },
    "language_info": {
      "codemirror_mode": "r",
      "file_extension": ".r",
      "mimetype": "text/x-r-source",
      "name": "R",
      "pygments_lexer": "r",
      "version": "4.3.3"
    }
  },
  "nbformat": 4,
  "nbformat_minor": 5
}