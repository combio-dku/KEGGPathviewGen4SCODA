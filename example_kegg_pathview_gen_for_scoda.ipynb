{
 "cells": [
  {
   "cell_type": "markdown",
   "id": "8a120c54",
   "metadata": {
    "id": "8a120c54"
   },
   "source": [
    "# R workshop: <font color=blue> Generating KEGG Pathway view </font>\n",
    "\n",
    "#### MLBI@DKU"
   ]
  },
  {
   "cell_type": "markdown",
   "id": "fd1c4555-9961-43ca-8d9d-1346c858ce29",
   "metadata": {
    "id": "fd1c4555-9961-43ca-8d9d-1346c858ce29"
   },
   "source": [
    "### __0. Install required R packages (skip if they are already installed)__"
   ]
  },
  {
   "cell_type": "code",
   "execution_count": null,
   "id": "2b34753b-259f-43b7-a88a-49848f5eb80c",
   "metadata": {
    "colab": {
     "base_uri": "https://localhost:8080/"
    },
    "executionInfo": {
     "elapsed": 8681,
     "status": "ok",
     "timestamp": 1736438060590,
     "user": {
      "displayName": "mlbi MLBI Lab",
      "userId": "07199555727956947340"
     },
     "user_tz": -540
    },
    "id": "2b34753b-259f-43b7-a88a-49848f5eb80c",
    "outputId": "4e7abadc-3d49-44bb-fc6b-8b448c2c0fbd",
    "scrolled": true
   },
   "outputs": [],
   "source": [
    "if (!requireNamespace(\"BiocManager\", quietly = TRUE))\n",
    "  install.packages(\"BiocManager\")\n",
    "BiocManager::install(\"biocLite\")\n",
    "## BiocManager::install()"
   ]
  },
  {
   "cell_type": "code",
   "execution_count": null,
   "id": "26bbf7e6-0f2b-4c6c-b96e-3cabed087730",
   "metadata": {
    "colab": {
     "base_uri": "https://localhost:8080/"
    },
    "executionInfo": {
     "elapsed": 784847,
     "status": "ok",
     "timestamp": 1736438851669,
     "user": {
      "displayName": "mlbi MLBI Lab",
      "userId": "07199555727956947340"
     },
     "user_tz": -540
    },
    "id": "26bbf7e6-0f2b-4c6c-b96e-3cabed087730",
    "outputId": "072ae581-0a21-4197-b8d6-0a3e09213c7c"
   },
   "outputs": [],
   "source": [
    "BiocManager::install(\"org.Mm.eg.db\")\n",
    "BiocManager::install(\"org.Hs.eg.db\")\n",
    "BiocManager::install(\"biomaRt\")\n",
    "BiocManager::install(\"gageData\")\n",
    "BiocManager::install(\"gage\")\n",
    "BiocManager::install(\"pathview\")\n",
    "install.packages(\"filesstrings\")\n",
    "install.packages(\"anndata\")"
   ]
  },
  {
   "cell_type": "code",
   "execution_count": 43,
   "id": "aqNo2kTM29W_",
   "metadata": {
    "executionInfo": {
     "elapsed": 6909,
     "status": "ok",
     "timestamp": 1736440130050,
     "user": {
      "displayName": "mlbi MLBI Lab",
      "userId": "07199555727956947340"
     },
     "user_tz": -540
    },
    "id": "aqNo2kTM29W_"
   },
   "outputs": [],
   "source": [
    "## Install anndata if it was not\n",
    "system('pip install anndata')"
   ]
  },
  {
   "cell_type": "code",
   "execution_count": null,
   "id": "cuTMrKyJsFPQ",
   "metadata": {
    "id": "cuTMrKyJsFPQ"
   },
   "outputs": [],
   "source": [
    "devtools::install_github(\"combio-dku/KEGGPathviewGen4SCODA\")"
   ]
  },
  {
   "cell_type": "markdown",
   "id": "bf7c06f0-002e-49b6-86da-a30057a8bd3e",
   "metadata": {
    "id": "bf7c06f0-002e-49b6-86da-a30057a8bd3e"
   },
   "source": [
    "### __1. Load libraries and data__"
   ]
  },
  {
   "cell_type": "code",
   "execution_count": 2,
   "id": "2fe136bf-ddd0-4b3f-98d1-d902d60e6f86",
   "metadata": {},
   "outputs": [],
   "source": [
    "suppressPackageStartupMessages(library(stringr))\n",
    "suppressPackageStartupMessages(library(dplyr))\n",
    "suppressPackageStartupMessages(library(filesstrings))\n",
    "suppressPackageStartupMessages(library(pathview))\n",
    "suppressPackageStartupMessages(library(gage))\n",
    "suppressPackageStartupMessages(library(gageData))\n",
    "suppressPackageStartupMessages(library(org.Hs.eg.db))\n",
    "suppressPackageStartupMessages(library(org.Mm.eg.db))\n",
    "suppressPackageStartupMessages(library(reticulate))\n",
    "suppressPackageStartupMessages(library(anndata))\n",
    "suppressPackageStartupMessages(library(KEGGPathviewGen4SCODA))"
   ]
  },
  {
   "cell_type": "markdown",
   "id": "73b84cad",
   "metadata": {
    "id": "73b84cad"
   },
   "source": [
    "### __2. Load SCODA result__"
   ]
  },
  {
   "cell_type": "code",
   "execution_count": 3,
   "id": "68b46c7b-29d3-4726-827b-e6c8cab9f501",
   "metadata": {
    "colab": {
     "base_uri": "https://localhost:8080/",
     "height": 69
    },
    "executionInfo": {
     "elapsed": 274,
     "status": "ok",
     "timestamp": 1736439264157,
     "user": {
      "displayName": "mlbi MLBI Lab",
      "userId": "07199555727956947340"
     },
     "user_tz": -540
    },
    "id": "68b46c7b-29d3-4726-827b-e6c8cab9f501",
    "outputId": "a24a5020-2c9d-499e-a95b-eafe510caafc"
   },
   "outputs": [
    {
     "data": {
      "text/html": [
       "<style>\n",
       ".list-inline {list-style: none; margin:0; padding: 0}\n",
       ".list-inline>li {display: inline-block}\n",
       ".list-inline>li:not(:last-child)::after {content: \"\\00b7\"; padding: 0 .5ex}\n",
       "</style>\n",
       "<ol class=list-inline><li>'Alzheimer\\'s disease_Normal_vs_others.png'</li><li>'example_human_brca_8k_results.h5ad'</li><li>'example_human_brca_8k_results.h5ad.tar.gz'</li><li>'example_kegg_pathview_gen_for_scoda.ipynb'</li><li>'KEGG_pathview_Epithelial cell'</li><li>'optional_config_files'</li><li>'scoda_practice_workshop_v2_R_kegg_pathview_code_dev-Copy1.ipynb'</li><li>'scoda_practice_workshop_v2_R_kegg_pathview_code_dev.ipynb'</li><li>'scoda_practice_workshop_v2_R_kegg_pathview.ipynb'</li><li>'scoda_practice_workshop_v2.ipynb'</li><li>'scoda_viz_for_py_user_v2.ipynb'</li><li>'scoda_workshop_example_dataset_GSE161529_33K'</li><li>'scoda_workshop_example_dataset_GSE161529_33K_results.tar.gz'</li><li>'scoda_workshop_example_dataset_GSE161529_33K.h5ad.gz'</li></ol>\n"
      ],
      "text/latex": [
       "\\begin{enumerate*}\n",
       "\\item 'Alzheimer\\textbackslash{}'s disease\\_Normal\\_vs\\_others.png'\n",
       "\\item 'example\\_human\\_brca\\_8k\\_results.h5ad'\n",
       "\\item 'example\\_human\\_brca\\_8k\\_results.h5ad.tar.gz'\n",
       "\\item 'example\\_kegg\\_pathview\\_gen\\_for\\_scoda.ipynb'\n",
       "\\item 'KEGG\\_pathview\\_Epithelial cell'\n",
       "\\item 'optional\\_config\\_files'\n",
       "\\item 'scoda\\_practice\\_workshop\\_v2\\_R\\_kegg\\_pathview\\_code\\_dev-Copy1.ipynb'\n",
       "\\item 'scoda\\_practice\\_workshop\\_v2\\_R\\_kegg\\_pathview\\_code\\_dev.ipynb'\n",
       "\\item 'scoda\\_practice\\_workshop\\_v2\\_R\\_kegg\\_pathview.ipynb'\n",
       "\\item 'scoda\\_practice\\_workshop\\_v2.ipynb'\n",
       "\\item 'scoda\\_viz\\_for\\_py\\_user\\_v2.ipynb'\n",
       "\\item 'scoda\\_workshop\\_example\\_dataset\\_GSE161529\\_33K'\n",
       "\\item 'scoda\\_workshop\\_example\\_dataset\\_GSE161529\\_33K\\_results.tar.gz'\n",
       "\\item 'scoda\\_workshop\\_example\\_dataset\\_GSE161529\\_33K.h5ad.gz'\n",
       "\\end{enumerate*}\n"
      ],
      "text/markdown": [
       "1. 'Alzheimer\\'s disease_Normal_vs_others.png'\n",
       "2. 'example_human_brca_8k_results.h5ad'\n",
       "3. 'example_human_brca_8k_results.h5ad.tar.gz'\n",
       "4. 'example_kegg_pathview_gen_for_scoda.ipynb'\n",
       "5. 'KEGG_pathview_Epithelial cell'\n",
       "6. 'optional_config_files'\n",
       "7. 'scoda_practice_workshop_v2_R_kegg_pathview_code_dev-Copy1.ipynb'\n",
       "8. 'scoda_practice_workshop_v2_R_kegg_pathview_code_dev.ipynb'\n",
       "9. 'scoda_practice_workshop_v2_R_kegg_pathview.ipynb'\n",
       "10. 'scoda_practice_workshop_v2.ipynb'\n",
       "11. 'scoda_viz_for_py_user_v2.ipynb'\n",
       "12. 'scoda_workshop_example_dataset_GSE161529_33K'\n",
       "13. 'scoda_workshop_example_dataset_GSE161529_33K_results.tar.gz'\n",
       "14. 'scoda_workshop_example_dataset_GSE161529_33K.h5ad.gz'\n",
       "\n",
       "\n"
      ],
      "text/plain": [
       " [1] \"Alzheimer's disease_Normal_vs_others.png\"                       \n",
       " [2] \"example_human_brca_8k_results.h5ad\"                             \n",
       " [3] \"example_human_brca_8k_results.h5ad.tar.gz\"                      \n",
       " [4] \"example_kegg_pathview_gen_for_scoda.ipynb\"                      \n",
       " [5] \"KEGG_pathview_Epithelial cell\"                                  \n",
       " [6] \"optional_config_files\"                                          \n",
       " [7] \"scoda_practice_workshop_v2_R_kegg_pathview_code_dev-Copy1.ipynb\"\n",
       " [8] \"scoda_practice_workshop_v2_R_kegg_pathview_code_dev.ipynb\"      \n",
       " [9] \"scoda_practice_workshop_v2_R_kegg_pathview.ipynb\"               \n",
       "[10] \"scoda_practice_workshop_v2.ipynb\"                               \n",
       "[11] \"scoda_viz_for_py_user_v2.ipynb\"                                 \n",
       "[12] \"scoda_workshop_example_dataset_GSE161529_33K\"                   \n",
       "[13] \"scoda_workshop_example_dataset_GSE161529_33K_results.tar.gz\"    \n",
       "[14] \"scoda_workshop_example_dataset_GSE161529_33K.h5ad.gz\"           "
      ]
     },
     "metadata": {},
     "output_type": "display_data"
    }
   ],
   "source": [
    "data.dir <- \"./\"\n",
    "\n",
    "flst <- list.files(data.dir)\n",
    "flst"
   ]
  },
  {
   "cell_type": "code",
   "execution_count": 4,
   "id": "loyOWElv111g",
   "metadata": {
    "executionInfo": {
     "elapsed": 11546,
     "status": "ok",
     "timestamp": 1736439229692,
     "user": {
      "displayName": "mlbi MLBI Lab",
      "userId": "07199555727956947340"
     },
     "user_tz": -540
    },
    "id": "loyOWElv111g"
   },
   "outputs": [],
   "source": [
    "file <- 'scoda_workshop_example_dataset_GSE161529_33K_results.tar.gz'\n",
    "untar(file)"
   ]
  },
  {
   "cell_type": "code",
   "execution_count": 4,
   "id": "53d71bfb-9ee5-497d-acd9-9c5dc99c85d7",
   "metadata": {
    "colab": {
     "base_uri": "https://localhost:8080/",
     "height": 255
    },
    "executionInfo": {
     "elapsed": 16633,
     "status": "ok",
     "timestamp": 1736440149828,
     "user": {
      "displayName": "mlbi MLBI Lab",
      "userId": "07199555727956947340"
     },
     "user_tz": -540
    },
    "id": "53d71bfb-9ee5-497d-acd9-9c5dc99c85d7",
    "outputId": "6fdad9fc-8d51-4ea9-809f-e1170bbb47b0"
   },
   "outputs": [
    {
     "data": {
      "text/plain": [
       "AnnData object with n_obs × n_vars = 12000 × 19438\n",
       "    obs: 'Patient', 'Percent_mito', 'nCount_RNA', 'nFeature_RNA', 'Celltype_Major', 'Celltype_Minor', 'Celltype_Subset', 'subtype', 'gene_module', 'Calls', 'normal_cell_call', 'CNA_value', 'sample', 'condition', 'sample_rev', 'sample_ext', 'celltype_major', 'celltype_minor', 'celltype_subset', 'cnv_ref_ind', 'ploidy_score', 'ploidy_dec', 'condition_for_deg', 'sample_ext_for_deg', 'celltype_for_deg', 'celltype_for_cci', 'tumor_origin_ind'\n",
       "    var: 'gene_ids', 'variable_genes', 'chr', 'spot_no'\n",
       "    uns: 'CCI', 'CCI_sample', 'Celltype_marker_DB', 'DEG', 'DEG_grouping_vars', 'DEG_stat', 'GSA_down', 'GSA_up', 'GSEA', 'Pathways_DB', 'analysis_parameters', 'cnv', 'cnv_neighbors_info', 'inferploidy_summary', 'log', 'lut_sample_to_cond', 'usr_param'\n",
       "    obsm: 'HiCAT_result', 'X_cnv', 'X_cnv_pca', 'X_pca', 'inferploidy_results'\n",
       "    obsp: 'cnv_neighbor_graph_connectivity', 'cnv_neighbor_graph_distance'"
      ]
     },
     "metadata": {},
     "output_type": "display_data"
    }
   ],
   "source": [
    "### Load data & extract cell-gene matrix as a data.frame (rownames: cell barcode, colnames: gene symbol)\n",
    "file_h5ad <- 'example_human_brca_8k_results.h5ad'\n",
    "\n",
    "adata_t <- read_h5ad(file_h5ad)\n",
    "adata_t"
   ]
  },
  {
   "cell_type": "markdown",
   "id": "abb22c71-1e79-46ab-81e9-cc7d769c2511",
   "metadata": {
    "id": "abb22c71-1e79-46ab-81e9-cc7d769c2511"
   },
   "source": [
    "### __3. Get mapping to KEGG pathway__"
   ]
  },
  {
   "cell_type": "code",
   "execution_count": 5,
   "id": "e081c917-3455-41ea-8981-9740f945de64",
   "metadata": {
    "colab": {
     "base_uri": "https://localhost:8080/"
    },
    "executionInfo": {
     "elapsed": 174818,
     "status": "ok",
     "timestamp": 1736440430035,
     "user": {
      "displayName": "mlbi MLBI Lab",
      "userId": "07199555727956947340"
     },
     "user_tz": -540
    },
    "id": "e081c917-3455-41ea-8981-9740f945de64",
    "outputId": "07cb06bb-1391-4aec-acc6-fd40eb6fac7e"
   },
   "outputs": [
    {
     "name": "stdout",
     "output_type": "stream",
     "text": [
      "Converting Pathways DB .. done.        \n"
     ]
    }
   ],
   "source": [
    "species <- adata_t$uns[['usr_param']][['species']]\n",
    "pathways.used <- adata_t$uns[['Pathways_DB']]\n",
    "\n",
    "df_pathways_map <- get_pathways_map( pathways.used, species, min_overlap = 0.85 )"
   ]
  },
  {
   "cell_type": "code",
   "execution_count": 6,
   "id": "c0d14f57-e293-448c-949a-5cae542f306e",
   "metadata": {},
   "outputs": [
    {
     "data": {
      "text/html": [
       "<table class=\"dataframe\">\n",
       "<caption>A data.frame: 6 × 4</caption>\n",
       "<thead>\n",
       "\t<tr><th></th><th scope=col>pw_id</th><th scope=col>pw_name</th><th scope=col>pw_id_name</th><th scope=col>pw_name_used</th></tr>\n",
       "\t<tr><th></th><th scope=col>&lt;chr&gt;</th><th scope=col>&lt;chr&gt;</th><th scope=col>&lt;chr&gt;</th><th scope=col>&lt;chr&gt;</th></tr>\n",
       "</thead>\n",
       "<tbody>\n",
       "\t<tr><th scope=row>hsa02010 ABC transporters</th><td>hsa02010</td><td>ABC transporters                                    </td><td>hsa02010 ABC transporters                                    </td><td>ABC transporters                                    </td></tr>\n",
       "\t<tr><th scope=row>hsa04933 AGE-RAGE signaling pathway in diabetic complications</th><td>hsa04933</td><td>AGE-RAGE signaling pathway in diabetic complications</td><td>hsa04933 AGE-RAGE signaling pathway in diabetic complications</td><td>AGE-RAGE signaling pathway in diabetic complications</td></tr>\n",
       "\t<tr><th scope=row>hsa04152 AMPK signaling pathway</th><td>hsa04152</td><td>AMPK signaling pathway                              </td><td>hsa04152 AMPK signaling pathway                              </td><td>AMPK signaling pathway                              </td></tr>\n",
       "\t<tr><th scope=row>hsa05221 Acute myeloid leukemia</th><td>hsa05221</td><td>Acute myeloid leukemia                              </td><td>hsa05221 Acute myeloid leukemia                              </td><td>Acute myeloid leukemia                              </td></tr>\n",
       "\t<tr><th scope=row>hsa04520 Adherens junction</th><td>hsa04520</td><td>Adherens junction                                   </td><td>hsa04520 Adherens junction                                   </td><td>Adherens junction                                   </td></tr>\n",
       "\t<tr><th scope=row>hsa04920 Adipocytokine signaling pathway</th><td>hsa04920</td><td>Adipocytokine signaling pathway                     </td><td>hsa04920 Adipocytokine signaling pathway                     </td><td>Adipocytokine signaling pathway                     </td></tr>\n",
       "</tbody>\n",
       "</table>\n"
      ],
      "text/latex": [
       "A data.frame: 6 × 4\n",
       "\\begin{tabular}{r|llll}\n",
       "  & pw\\_id & pw\\_name & pw\\_id\\_name & pw\\_name\\_used\\\\\n",
       "  & <chr> & <chr> & <chr> & <chr>\\\\\n",
       "\\hline\n",
       "\thsa02010 ABC transporters & hsa02010 & ABC transporters                                     & hsa02010 ABC transporters                                     & ABC transporters                                    \\\\\n",
       "\thsa04933 AGE-RAGE signaling pathway in diabetic complications & hsa04933 & AGE-RAGE signaling pathway in diabetic complications & hsa04933 AGE-RAGE signaling pathway in diabetic complications & AGE-RAGE signaling pathway in diabetic complications\\\\\n",
       "\thsa04152 AMPK signaling pathway & hsa04152 & AMPK signaling pathway                               & hsa04152 AMPK signaling pathway                               & AMPK signaling pathway                              \\\\\n",
       "\thsa05221 Acute myeloid leukemia & hsa05221 & Acute myeloid leukemia                               & hsa05221 Acute myeloid leukemia                               & Acute myeloid leukemia                              \\\\\n",
       "\thsa04520 Adherens junction & hsa04520 & Adherens junction                                    & hsa04520 Adherens junction                                    & Adherens junction                                   \\\\\n",
       "\thsa04920 Adipocytokine signaling pathway & hsa04920 & Adipocytokine signaling pathway                      & hsa04920 Adipocytokine signaling pathway                      & Adipocytokine signaling pathway                     \\\\\n",
       "\\end{tabular}\n"
      ],
      "text/markdown": [
       "\n",
       "A data.frame: 6 × 4\n",
       "\n",
       "| <!--/--> | pw_id &lt;chr&gt; | pw_name &lt;chr&gt; | pw_id_name &lt;chr&gt; | pw_name_used &lt;chr&gt; |\n",
       "|---|---|---|---|---|\n",
       "| hsa02010 ABC transporters | hsa02010 | ABC transporters                                     | hsa02010 ABC transporters                                     | ABC transporters                                     |\n",
       "| hsa04933 AGE-RAGE signaling pathway in diabetic complications | hsa04933 | AGE-RAGE signaling pathway in diabetic complications | hsa04933 AGE-RAGE signaling pathway in diabetic complications | AGE-RAGE signaling pathway in diabetic complications |\n",
       "| hsa04152 AMPK signaling pathway | hsa04152 | AMPK signaling pathway                               | hsa04152 AMPK signaling pathway                               | AMPK signaling pathway                               |\n",
       "| hsa05221 Acute myeloid leukemia | hsa05221 | Acute myeloid leukemia                               | hsa05221 Acute myeloid leukemia                               | Acute myeloid leukemia                               |\n",
       "| hsa04520 Adherens junction | hsa04520 | Adherens junction                                    | hsa04520 Adherens junction                                    | Adherens junction                                    |\n",
       "| hsa04920 Adipocytokine signaling pathway | hsa04920 | Adipocytokine signaling pathway                      | hsa04920 Adipocytokine signaling pathway                      | Adipocytokine signaling pathway                      |\n",
       "\n"
      ],
      "text/plain": [
       "                                                              pw_id   \n",
       "hsa02010 ABC transporters                                     hsa02010\n",
       "hsa04933 AGE-RAGE signaling pathway in diabetic complications hsa04933\n",
       "hsa04152 AMPK signaling pathway                               hsa04152\n",
       "hsa05221 Acute myeloid leukemia                               hsa05221\n",
       "hsa04520 Adherens junction                                    hsa04520\n",
       "hsa04920 Adipocytokine signaling pathway                      hsa04920\n",
       "                                                              pw_name                                             \n",
       "hsa02010 ABC transporters                                     ABC transporters                                    \n",
       "hsa04933 AGE-RAGE signaling pathway in diabetic complications AGE-RAGE signaling pathway in diabetic complications\n",
       "hsa04152 AMPK signaling pathway                               AMPK signaling pathway                              \n",
       "hsa05221 Acute myeloid leukemia                               Acute myeloid leukemia                              \n",
       "hsa04520 Adherens junction                                    Adherens junction                                   \n",
       "hsa04920 Adipocytokine signaling pathway                      Adipocytokine signaling pathway                     \n",
       "                                                              pw_id_name                                                   \n",
       "hsa02010 ABC transporters                                     hsa02010 ABC transporters                                    \n",
       "hsa04933 AGE-RAGE signaling pathway in diabetic complications hsa04933 AGE-RAGE signaling pathway in diabetic complications\n",
       "hsa04152 AMPK signaling pathway                               hsa04152 AMPK signaling pathway                              \n",
       "hsa05221 Acute myeloid leukemia                               hsa05221 Acute myeloid leukemia                              \n",
       "hsa04520 Adherens junction                                    hsa04520 Adherens junction                                   \n",
       "hsa04920 Adipocytokine signaling pathway                      hsa04920 Adipocytokine signaling pathway                     \n",
       "                                                              pw_name_used                                        \n",
       "hsa02010 ABC transporters                                     ABC transporters                                    \n",
       "hsa04933 AGE-RAGE signaling pathway in diabetic complications AGE-RAGE signaling pathway in diabetic complications\n",
       "hsa04152 AMPK signaling pathway                               AMPK signaling pathway                              \n",
       "hsa05221 Acute myeloid leukemia                               Acute myeloid leukemia                              \n",
       "hsa04520 Adherens junction                                    Adherens junction                                   \n",
       "hsa04920 Adipocytokine signaling pathway                      Adipocytokine signaling pathway                     "
      ]
     },
     "metadata": {},
     "output_type": "display_data"
    }
   ],
   "source": [
    "head(df_pathways_map)"
   ]
  },
  {
   "cell_type": "markdown",
   "id": "1d5eb833",
   "metadata": {
    "id": "1d5eb833"
   },
   "source": [
    "### __4. Generate KEGG pathview__"
   ]
  },
  {
   "cell_type": "code",
   "execution_count": 7,
   "id": "26508cd1-97df-4c4e-a7f7-4a3d9bc432d3",
   "metadata": {},
   "outputs": [
    {
     "name": "stdout",
     "output_type": "stream",
     "text": [
      "Getting fold changes .. \n",
      "          Aneuploid unassigned: ER+_vs_others(3211), HER2+_vs_others(2149), TNBC_vs_others(2664)\n",
      "                        B cell: ER+_vs_others(55), HER2+_vs_others(15), TNBC_vs_others(172)\n",
      "              Endothelial cell: ER+_vs_others(173), HER2+_vs_others(35)\n",
      "                    Fibroblast: ER+_vs_others(331), HER2+_vs_others(98), TNBC_vs_others(290)\n",
      "                           ILC: ER+_vs_others(94), HER2+_vs_others(37)\n",
      "                    Macrophage: ER+_vs_others(455), HER2+_vs_others(100), TNBC_vs_others(254)\n",
      "                   Plasma cell: ER+_vs_others(96), HER2+_vs_others(43), TNBC_vs_others(201)\n",
      "                   T cell CD4+: ER+_vs_others(298), HER2+_vs_others(120), TNBC_vs_others(449)\n",
      "                   T cell CD8+: ER+_vs_others(231), HER2+_vs_others(123), TNBC_vs_others(778)\n",
      "Getting fold changes .. done. \n"
     ]
    }
   ],
   "source": [
    "lst.deg.all <- adata_t$uns[['DEG']]\n",
    "lst.gsa.all <- adata_t$uns[['GSA_up']]\n",
    "\n",
    "lst.fcs.all <- get_all_fold_changes( lst.deg.all, species, pval.cutoff = 1e-4 )"
   ]
  },
  {
   "cell_type": "code",
   "execution_count": 68,
   "id": "d32c78c3-fa8e-4ca2-9991-0df24cb2c6e0",
   "metadata": {},
   "outputs": [],
   "source": [
    "add_entrez <- function( df.deg.res, species )\n",
    "{\n",
    "    if(species == 'hsa'){\n",
    "        org.db <- org.Hs.eg.db\n",
    "    } else{\n",
    "        org.db <- org.Mm.eg.db\n",
    "    }\n",
    "\n",
    "    my.symbols <- rownames(df.deg.res)\n",
    "    suppressMessages( Convert_result <- biomaRt::select(org.db, keys = my.symbols,\n",
    "                             columns = c(\"ENTREZID\", \"SYMBOL\"),\n",
    "                             keytype = \"SYMBOL\") )\n",
    "    Convert_result <- distinct(Convert_result, SYMBOL, .keep_all= TRUE)\n",
    "\n",
    "    df.deg.res <- cbind(df.deg.res, Convert_result)\n",
    "    return(df.deg.res)\n",
    "}\n",
    "\n",
    "get_species <- function( species )\n",
    "{\n",
    "    if( tolower(species) %in% c('hs', 'human') ){ species = 'hsa' }\n",
    "    else if( tolower(species) %in% c('mm', 'mouse')){ species = 'mmu' }\n",
    "    return(species)\n",
    "}\n",
    "\n",
    "get_fold_changes <- function( df.deg.res, species, pval.cutoff = 0.01 )\n",
    "{\n",
    "    if( tolower(species) %in% c('hs', 'human') ){ species = 'hsa' }\n",
    "    else if( tolower(species) %in% c('mm', 'mouse')){ species = 'mmu' }\n",
    "\n",
    "    if( !(\"ENTREZID\" %in% colnames(df.deg.res)) )\n",
    "    {\n",
    "        df.deg.res <- add_entrez( df.deg.res, species )\n",
    "    }\n",
    "\n",
    "    b <- (df.deg.res$pval <= pval.cutoff)\n",
    "    foldchanges = df.deg.res$log2_FC[b]\n",
    "    names(foldchanges) = df.deg.res$ENTREZID[b]\n",
    "\n",
    "    return(foldchanges)\n",
    "}\n",
    "\n",
    "\n",
    "get_all_fold_changes <- function( lst.deg.res, species, pval.cutoff = 0.01 )\n",
    "{\n",
    "    cat(sprintf('Getting fold changes .. \\n'))\n",
    "    flush.console()\n",
    "\n",
    "    lst.fc.res <- c()\n",
    "    for( j in 1:length(lst.deg.res) )\n",
    "    {\n",
    "        cat(sprintf('%30s: ', names(lst.deg.res)[j]))\n",
    "        flush.console()\n",
    "\n",
    "        lst.deg.t <- lst.deg.res[[j]]\n",
    "        lst.fc.t <- list()\n",
    "        for( i in 1:length(lst.deg.t) )\n",
    "        {\n",
    "            foldchanges <- get_fold_changes(lst.deg.t[[i]], species, pval.cutoff )\n",
    "            lst.fc.t[[i]] <- foldchanges\n",
    "            if( i == length(lst.deg.t) )\n",
    "            {\n",
    "                cat(sprintf('%s(%d)\\n', names(lst.deg.t)[i], sum(foldchanges != 0)))\n",
    "            } else{\n",
    "                cat(sprintf('%s(%d), ', names(lst.deg.t)[i], sum(foldchanges != 0)))\n",
    "            }\n",
    "        }\n",
    "        names(lst.fc.t) <- names(lst.deg.t)\n",
    "        lst.fc.res[[j]] <- lst.fc.t \n",
    "    }\n",
    "    names(lst.fc.res) <- names(lst.deg.res)\n",
    "    cat(sprintf('Getting fold changes .. done. \\n'))\n",
    "    return( lst.fc.res )\n",
    "}\n",
    "\n",
    "\n",
    "get_kegg_pathways_info <- function( species )\n",
    "{\n",
    "    kegg.db <- kegg.gsets(species = species, id.type = \"kegg\", check.new = TRUE)\n",
    "    kegg_pw_id_name <- names(kegg.db$kg.sets)\n",
    "\n",
    "    kegg_pw_id <- vapply(strsplit(kegg_pw_id_name, \" \", fixed = TRUE), \"[\", \"\", 1)\n",
    "    kegg_pw_name <- as.vector(vapply(kegg_pw_id_name, function(x) substring(x, 10), character(1)))\n",
    "\n",
    "    df_pw <- data.frame( pw_id = kegg_pw_id, pw_name = kegg_pw_name, pw_id_name = kegg_pw_id_name )\n",
    "    rownames(df_pw) <- (kegg_pw_id_name)\n",
    "\n",
    "    pathways_kegg_entrez <- list()\n",
    "    for( i in 1:length(kegg_pw_id_name) )\n",
    "    {\n",
    "        pathways_kegg_entrez[[i]] <- kegg.db$kg.sets[[kegg_pw_id_name[i]]]\n",
    "    }\n",
    "    names(pathways_kegg_entrez) <- kegg_pw_id_name\n",
    "\n",
    "    return( list(id_name_map = df_pw, gene.sets = pathways_kegg_entrez ) )\n",
    "}\n",
    "\n",
    "\n",
    "convert_gene_symbols_in_Pathways_DB_to_entrez <- function(pathways_used, species)\n",
    "{\n",
    "    if( tolower(species) %in% c('hs', 'human') ){ species = 'hsa' }\n",
    "    else if( tolower(species) %in% c('mm', 'mouse')){ species = 'mmu' }\n",
    "\n",
    "    if(species == 'hsa'){\n",
    "        org.db <- org.Hs.eg.db\n",
    "    } else{\n",
    "        org.db <- org.Mm.eg.db\n",
    "    }\n",
    "\n",
    "    pathways_names_used <- names(pathways_used)\n",
    "    ## For each pathway, convert hugo symbols into ENTREZ symbol\n",
    "    pathways_used_entrez <- list()\n",
    "    cat(sprintf('Converting Pathways DB .. \\r'))\n",
    "    for( i in 1:length(pathways_names_used) )\n",
    "    {\n",
    "        cat(sprintf('Converting Pathways DB .. %3d/%3d   \\r', i, length(pathways_names_used)) ) #, pathways_names_used[i]))\n",
    "        flush.console()\n",
    "\n",
    "        hugo.symbols <- pathways_used[[pathways_names_used[i]]]\n",
    "        if( length(hugo.symbols) == 1 ){ hugo.symbols <- hugo.symbols[[1]] }\n",
    "\n",
    "        {\n",
    "            s <- hugo.symbols[[1]][length(hugo.symbols[[1]])]\n",
    "            if(  substr( s, str_length(s), str_length(s) ) == '\\n' )\n",
    "            {\n",
    "                hugo.symbols[[1]][length(hugo.symbols[[1]])] <- substr( s, 1, str_length(s)-1 )\n",
    "            }\n",
    "        }\n",
    "\n",
    "        suppressMessages( Convert_result <- biomaRt::select(org.db, keys = hugo.symbols,\n",
    "                                 columns = c(\"ENTREZID\", \"SYMBOL\"),\n",
    "                                 keytype = \"SYMBOL\") )\n",
    "        Convert_result <- distinct(Convert_result, SYMBOL, .keep_all= TRUE)\n",
    "        pathways_used_entrez[[i]] <- Convert_result[,\"ENTREZID\"]\n",
    "        wh <- which(is.na( pathways_used_entrez[[i]] ))\n",
    "        pathways_used_entrez[[i]] <- pathways_used_entrez[[i]][-wh]\n",
    "    }\n",
    "    names(pathways_used_entrez) <- pathways_names_used\n",
    "    cat(sprintf('Converting Pathways DB .. done.        \\n'))\n",
    "\n",
    "    return(pathways_used_entrez)\n",
    "}\n",
    "\n",
    "\n",
    "## For each pathway, find the best-match KEGG pathways\n",
    "build_pathway_map <- function(pathways_used_entrez, pathways_kegg_entrez, o_th = 0.85)\n",
    "{\n",
    "    # o_th <- 0.85\n",
    "    pathways_map <- c()\n",
    "    names_map <- c()\n",
    "\n",
    "    cnt <- 0\n",
    "    for( i in 1:length(pathways_used_entrez) )\n",
    "    {\n",
    "        ov <- c()\n",
    "        or <- c()\n",
    "        for( j in 1:length(pathways_kegg_entrez) )\n",
    "        {\n",
    "            pwi <- intersect( pathways_used_entrez[[i]], pathways_kegg_entrez[[j]] )\n",
    "            ov[j] <- length(pwi)\n",
    "            or[j] <- length(pwi) /min(length(pathways_used_entrez[[i]]), length(pathways_kegg_entrez[[j]]))\n",
    "        }\n",
    "        w <- which.max(ov)\n",
    "        if(or[w] >= o_th)\n",
    "        {\n",
    "            cnt <- cnt + 1\n",
    "            pathways_map[cnt] <- names(pathways_kegg_entrez)[w]\n",
    "            names_map[cnt] <- names(pathways_used_entrez)[i]\n",
    "        }\n",
    "    }\n",
    "    names(pathways_map) <- names_map\n",
    "\n",
    "    return(pathways_map)\n",
    "}\n",
    "\n",
    "\n",
    "select_valid_pathways_from_gsa_result <- function( df.gsa, pathways_map, df_kegg_pw_map,\n",
    "                                                   p.val.cutoff = 0.01, verbose = FALSE )\n",
    "{\n",
    "    p.val.cutoff.scoda <- p.val.cutoff\n",
    "    pv.col <- 'pval'\n",
    "\n",
    "    n_before <- dim(df.gsa)[1]\n",
    "    b <- df.gsa[,pv.col] <= p.val.cutoff.scoda\n",
    "    df.gsa <- df.gsa[b,]\n",
    "    pw_detected_scoda <- ( pathways_map[rownames(df.gsa)] )\n",
    "    n_after <- dim(df.gsa)[1]\n",
    "    pw_detected_scoda <- unique(pw_detected_scoda)\n",
    "\n",
    "    if( verbose )\n",
    "    {\n",
    "        cat(sprintf('# GSA items: %d -> %d -> %d -> ', n_before, n_after, length(pw_detected_scoda) ))\n",
    "    }\n",
    "\n",
    "    kegg_pw_id_name <- rownames(df_kegg_pw_map)\n",
    "    pw_scoda <- sort(pw_detected_scoda)\n",
    "    pw_kegg <- sort((kegg_pw_id_name))\n",
    "    pw_common <- intersect(pw_scoda, pw_kegg)\n",
    "    pw_scoda_only <- setdiff(pw_scoda, pw_common)\n",
    "    pw_kegg_only <- setdiff(pw_kegg, pw_common)\n",
    "\n",
    "    n_common <- length(pw_common)\n",
    "    n_scoda <- length(pw_scoda)\n",
    "    n_scoda_only <- length(pw_scoda_only)\n",
    "    n_kegg <- length(pw_kegg)\n",
    "\n",
    "    if( verbose )\n",
    "    {\n",
    "        cat(sprintf('%d intersection %d -> %d \\n', n_scoda, n_kegg, n_common ))\n",
    "    }\n",
    "    df_pw_sel <- df_kegg_pw_map[pw_common, ]\n",
    "\n",
    "    return(df_pw_sel)\n",
    "}\n",
    "\n",
    "\n",
    "get_pathways_map <- function(pathways_used, species, min_overlap = 0.85 )\n",
    "{\n",
    "    if( tolower(species) %in% c('hs', 'human') ){ species = 'hsa' }\n",
    "    else if( tolower(species) %in% c('mm', 'mouse')){ species = 'mmu' }\n",
    "\n",
    "    pathways_used_entrez <- convert_gene_symbols_in_Pathways_DB_to_entrez( pathways_used, species )\n",
    "\n",
    "    lst <- get_kegg_pathways_info( species = species )\n",
    "    df_kegg_pw_map <- lst$id_name_map\n",
    "    pathways_kegg_entrez <- lst$gene.sets\n",
    "\n",
    "    pathways_map <- build_pathway_map( pathways_used_entrez, pathways_kegg_entrez, o_th = min_overlap )\n",
    "\n",
    "    pws <- names(pathways_map)\n",
    "\n",
    "    pw_sel <- c()\n",
    "    cnt <- 0\n",
    "    for( pw in pws )\n",
    "    {\n",
    "        if( pathways_map[[pw]] %in% rownames(df_kegg_pw_map) )\n",
    "        {\n",
    "            cnt <- cnt + 1\n",
    "            pw_sel[cnt] <- pw\n",
    "        }\n",
    "    }\n",
    "\n",
    "    df_kegg_pw_map_sel <- df_kegg_pw_map[ pathways_map[pw_sel], ]\n",
    "    df_kegg_pw_map_sel[,'pw_name_used'] <- pw_sel\n",
    "\n",
    "    return(df_kegg_pw_map_sel)\n",
    "    # return( list(kegg_pw_map = df_kegg_pw_map, pathways_map = pathways_map) )\n",
    "}\n",
    "\n",
    "\n",
    "save_kegg_pathviews <- function( target_cell, lst.gsa.all, lst.fcs.all, df_pathways_map, \n",
    "                                 species, gsa.p.val.cutoff = 0.01 )\n",
    "{\n",
    "    if( tolower(species) %in% c('hs', 'human') ){ species = 'hsa' }\n",
    "    else if( tolower(species) %in% c('mm', 'mouse')){ species = 'mmu' }\n",
    "\n",
    "    lst.df.gsa <- lst.gsa.all[[target_cell]]\n",
    "    fcs.entrez <- lst.fcs.all[[target_cell]]\n",
    "\n",
    "    pathways_map <- rownames(df_pathways_map)\n",
    "    names(pathways_map) <- df_pathways_map[,'pw_name_used']\n",
    "\n",
    "    df_kegg_pw_map <- df_pathways_map\n",
    "\n",
    "    dir_to_save <- sprintf('KEGG_pathview_%s', target_cell )\n",
    "\n",
    "    if( !file.exists(dir_to_save) ){\n",
    "        dir.create(dir_to_save)\n",
    "    } else{\n",
    "        f.lst <- list.files(dir_to_save)\n",
    "        for(i in 1:length(f.lst))\n",
    "        {\n",
    "            f <- paste0(dir_to_save, '/', f.lst[i])\n",
    "            if( file.exists(f) ){ file.remove(f) }\n",
    "        }\n",
    "    }\n",
    "    items <- names(lst.df.gsa)\n",
    "\n",
    "    for( j in 1:length(items) )\n",
    "    {\n",
    "        item <- items[j]\n",
    "        foldchanges <- fcs.entrez[[item]]\n",
    "\n",
    "        df.gsa <- lst.df.gsa[[item]]\n",
    "        if( dim(df.gsa)[1] > 0 )\n",
    "        {\n",
    "            df_pw_sel <- select_valid_pathways_from_gsa_result( df.gsa, pathways_map, df_kegg_pw_map,\n",
    "                                                                p.val.cutoff = gsa.p.val.cutoff )\n",
    "\n",
    "            if( dim(df_pw_sel)[1] > 0)\n",
    "            {\n",
    "                pw_id_sel <- df_pw_sel$pw_id\n",
    "                pw_name_sel <- df_pw_sel$pw_name\n",
    "\n",
    "                if( length(pw_name_sel) == 1 )\n",
    "                {\n",
    "                    s_max = str_length(pw_name_sel)\n",
    "                } else\n",
    "                {\n",
    "                    s_max = 0\n",
    "                    for( i in 1:length(pw_name_sel)){ \n",
    "                        s_max <- max( s_max, str_length(pw_name_sel[i]) ) \n",
    "                    }\n",
    "                }    \n",
    "                for( i in 1:length(pw_name_sel))\n",
    "                {\n",
    "                    pid <- pw_id_sel[i]\n",
    "                    pname <- pw_name_sel[i]\n",
    "                    pname <- str_replace( pname, '/', '_' )\n",
    "    \n",
    "                    s_suffix = ''\n",
    "                    if( str_length(pname) < s_max )\n",
    "                    {\n",
    "                        for( k in 1:(s_max - str_length(pname)) )\n",
    "                        {\n",
    "                            s_suffix <- paste0(s_suffix, ' ')\n",
    "                        }\n",
    "                    }\n",
    "    \n",
    "                    cat(sprintf('%30s: %d/%d - %d/%d - %s%s \\r', target_cell, j, length(items),\n",
    "                                  i, length(pw_name_sel), pname, s_suffix ))\n",
    "                    flush.console()\n",
    "    \n",
    "                    suppressMessages( pv.out <- pathview(gene.data = foldchanges, pathway.id=pid,\n",
    "                              species=species, kegg.dir = dir_to_save, # out.suffix = 'pos',\n",
    "                              low = list(gene = \"turquoise\", cpd = \"blue\"),\n",
    "                              mid = list(gene = \"gray\", cpd = \"gray\"),\n",
    "                              high = list(gene = \"gold\", cpd = \"yellow\"),\n",
    "                              kegg.native = TRUE, same.layer = FALSE, min.nnodes = 5))\n",
    "    \n",
    "                    if( is.list(pv.out) )\n",
    "                    {\n",
    "                        file_out <- paste0(pname, '_', item, '.png')\n",
    "                        file.rename(paste0(pid,'.pathview.png'), file_out)\n",
    "                        suppressMessages( file.move(file_out, dir_to_save) )\n",
    "                        if( file.exists(paste0(dir_to_save, '/', pid,'.png')) )\n",
    "                        {\n",
    "                            file.remove(paste0(dir_to_save, '/', pid,'.png'))\n",
    "                        }\n",
    "                        if( file.exists(paste0(dir_to_save, '/', pid,'.xml')) )\n",
    "                        {\n",
    "                            file.remove(paste0(dir_to_save, '/', pid,'.xml'))\n",
    "                        }\n",
    "                    }\n",
    "                }\n",
    "            }\n",
    "        }\n",
    "    }\n",
    "    cat(sprintf('%30s: %d/%d - %d/%d - %s%s \\n', target_cell, j, length(items),\n",
    "                  i, length(pw_name_sel), pname, s_suffix ))\n",
    "    return(dir_to_save)\n",
    "}\n"
   ]
  },
  {
   "cell_type": "code",
   "execution_count": 69,
   "id": "d4c3b2e5-628e-4fcd-99f9-c4fa3216b1b0",
   "metadata": {
    "colab": {
     "base_uri": "https://localhost:8080/"
    },
    "executionInfo": {
     "elapsed": 197275,
     "status": "ok",
     "timestamp": 1736441831214,
     "user": {
      "displayName": "mlbi MLBI Lab",
      "userId": "07199555727956947340"
     },
     "user_tz": -540
    },
    "id": "d4c3b2e5-628e-4fcd-99f9-c4fa3216b1b0",
    "outputId": "7bfbfa86-f035-4318-98c7-96b62d7337dd"
   },
   "outputs": [
    {
     "name": "stdout",
     "output_type": "stream",
     "text": [
      "          Aneuploid unassigned: 3/3 - 5/5 - Parkinson's disease                         \n"
     ]
    }
   ],
   "source": [
    "target_cell <- 'Aneuploid unassigned'\n",
    "dir_saved <- save_kegg_pathviews( target_cell, lst.gsa.all,\n",
    "                                  lst.fcs.all, df_pathways_map,\n",
    "                                  species, gsa.p.val.cutoff = 1e-4 )"
   ]
  },
  {
   "cell_type": "code",
   "execution_count": 73,
   "id": "fed43af9-3f85-4df5-8655-9346685bc1ec",
   "metadata": {
    "id": "fed43af9-3f85-4df5-8655-9346685bc1ec"
   },
   "outputs": [
    {
     "data": {
      "text/html": [
       "'KEGG_pathview_Epithelial cell'"
      ],
      "text/latex": [
       "'KEGG\\_pathview\\_Epithelial cell'"
      ],
      "text/markdown": [
       "'KEGG_pathview_Epithelial cell'"
      ],
      "text/plain": [
       "[1] \"KEGG_pathview_Epithelial cell\""
      ]
     },
     "metadata": {},
     "output_type": "display_data"
    }
   ],
   "source": [
    "dir_saved"
   ]
  },
  {
   "cell_type": "code",
   "execution_count": null,
   "id": "921406b2-ca95-4c2b-83c3-a9d981fbc660",
   "metadata": {
    "id": "921406b2-ca95-4c2b-83c3-a9d981fbc660",
    "outputId": "28b9c676-01b4-46f5-d066-51f9d84a1958"
   },
   "outputs": [
    {
     "data": {
      "text/html": [
       "<style>\n",
       ".list-inline {list-style: none; margin:0; padding: 0}\n",
       ".list-inline>li {display: inline-block}\n",
       ".list-inline>li:not(:last-child)::after {content: \"\\00b7\"; padding: 0 .5ex}\n",
       "</style>\n",
       "<ol class=list-inline><li>'Aneuploid Epithelial cell'</li><li>'B cell'</li><li>'Diploid Epithelial cell'</li><li>'Endothelial cell'</li><li>'Epithelial cell'</li><li>'Fibroblast'</li><li>'ILC'</li><li>'Macrophage'</li><li>'Plasma cell'</li><li>'Smooth muscle cell'</li><li>'T cell CD4+'</li><li>'T cell CD8+'</li></ol>\n"
      ],
      "text/latex": [
       "\\begin{enumerate*}\n",
       "\\item 'Aneuploid Epithelial cell'\n",
       "\\item 'B cell'\n",
       "\\item 'Diploid Epithelial cell'\n",
       "\\item 'Endothelial cell'\n",
       "\\item 'Epithelial cell'\n",
       "\\item 'Fibroblast'\n",
       "\\item 'ILC'\n",
       "\\item 'Macrophage'\n",
       "\\item 'Plasma cell'\n",
       "\\item 'Smooth muscle cell'\n",
       "\\item 'T cell CD4+'\n",
       "\\item 'T cell CD8+'\n",
       "\\end{enumerate*}\n"
      ],
      "text/markdown": [
       "1. 'Aneuploid Epithelial cell'\n",
       "2. 'B cell'\n",
       "3. 'Diploid Epithelial cell'\n",
       "4. 'Endothelial cell'\n",
       "5. 'Epithelial cell'\n",
       "6. 'Fibroblast'\n",
       "7. 'ILC'\n",
       "8. 'Macrophage'\n",
       "9. 'Plasma cell'\n",
       "10. 'Smooth muscle cell'\n",
       "11. 'T cell CD4+'\n",
       "12. 'T cell CD8+'\n",
       "\n",
       "\n"
      ],
      "text/plain": [
       " [1] \"Aneuploid Epithelial cell\" \"B cell\"                   \n",
       " [3] \"Diploid Epithelial cell\"   \"Endothelial cell\"         \n",
       " [5] \"Epithelial cell\"           \"Fibroblast\"               \n",
       " [7] \"ILC\"                       \"Macrophage\"               \n",
       " [9] \"Plasma cell\"               \"Smooth muscle cell\"       \n",
       "[11] \"T cell CD4+\"               \"T cell CD8+\"              "
      ]
     },
     "metadata": {},
     "output_type": "display_data"
    }
   ],
   "source": [
    "names(lst.fcs.all)"
   ]
  },
  {
   "cell_type": "code",
   "execution_count": null,
   "id": "9e19ec32-e8b7-4d78-881b-6c07f03048d4",
   "metadata": {
    "id": "9e19ec32-e8b7-4d78-881b-6c07f03048d4"
   },
   "outputs": [],
   "source": [
    "for( target_cell in names(lst.fcs.all) )\n",
    "{\n",
    "    dir_saved <- save_kegg_pathviews( target_cell, lst.gsa.all, lst.fcs.all, df_pathways_map, species, \n",
    "                                      gsa.p.val.cutoff = 0.01 )\n",
    "}"
   ]
  },
  {
   "cell_type": "code",
   "execution_count": null,
   "id": "f09de3f7-5ac0-4508-8aaf-974240e821b5",
   "metadata": {
    "id": "f09de3f7-5ac0-4508-8aaf-974240e821b5"
   },
   "outputs": [],
   "source": []
  },
  {
   "cell_type": "code",
   "execution_count": null,
   "id": "1769ce45-4edd-49d6-b6ba-060fc5f7d4f5",
   "metadata": {
    "id": "1769ce45-4edd-49d6-b6ba-060fc5f7d4f5"
   },
   "outputs": [],
   "source": []
  },
  {
   "cell_type": "code",
   "execution_count": null,
   "id": "226d9950-9866-4291-a841-2605a5bd550c",
   "metadata": {
    "id": "226d9950-9866-4291-a841-2605a5bd550c"
   },
   "outputs": [],
   "source": []
  },
  {
   "cell_type": "code",
   "execution_count": null,
   "id": "9cce76ee-42f7-4f09-b430-252360c1ece0",
   "metadata": {
    "id": "9cce76ee-42f7-4f09-b430-252360c1ece0"
   },
   "outputs": [],
   "source": []
  }
 ],
 "metadata": {
  "colab": {
   "provenance": []
  },
  "kernelspec": {
   "display_name": "R",
   "language": "R",
   "name": "ir"
  },
  "language_info": {
   "codemirror_mode": "r",
   "file_extension": ".r",
   "mimetype": "text/x-r-source",
   "name": "R",
   "pygments_lexer": "r",
   "version": "4.3.3"
  }
 },
 "nbformat": 4,
 "nbformat_minor": 5
}
